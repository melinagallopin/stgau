{
 "cells": [
  {
   "cell_type": "code",
   "execution_count": 8,
   "id": "46af6332",
   "metadata": {},
   "outputs": [
    {
     "data": {
      "text/plain": [
       "736"
      ]
     },
     "execution_count": 8,
     "metadata": {},
     "output_type": "execute_result"
    }
   ],
   "source": [
    "7+3**6"
   ]
  },
  {
   "cell_type": "code",
   "execution_count": 9,
   "id": "67c42ce7",
   "metadata": {},
   "outputs": [
    {
     "data": {
      "text/plain": [
       "343"
      ]
     },
     "execution_count": 9,
     "metadata": {},
     "output_type": "execute_result"
    }
   ],
   "source": [
    "(3+4)**3"
   ]
  },
  {
   "cell_type": "code",
   "execution_count": 11,
   "id": "18370b69",
   "metadata": {},
   "outputs": [
    {
     "data": {
      "text/plain": [
       "724"
      ]
     },
     "execution_count": 11,
     "metadata": {},
     "output_type": "execute_result"
    }
   ],
   "source": [
    "(3**6)-5"
   ]
  },
  {
   "cell_type": "code",
   "execution_count": 12,
   "id": "515c0c7a",
   "metadata": {},
   "outputs": [
    {
     "data": {
      "text/plain": [
       "1285"
      ]
     },
     "execution_count": 12,
     "metadata": {},
     "output_type": "execute_result"
    }
   ],
   "source": [
    "(1+2**8)*5"
   ]
  },
  {
   "cell_type": "code",
   "execution_count": 13,
   "id": "80f7e4a7",
   "metadata": {},
   "outputs": [
    {
     "data": {
      "text/plain": [
       "2187"
      ]
     },
     "execution_count": 13,
     "metadata": {},
     "output_type": "execute_result"
    }
   ],
   "source": [
    "(2+1**8)**7"
   ]
  },
  {
   "cell_type": "code",
   "execution_count": 14,
   "id": "12754bb0",
   "metadata": {},
   "outputs": [
    {
     "data": {
      "text/plain": [
       "27"
      ]
     },
     "execution_count": 14,
     "metadata": {},
     "output_type": "execute_result"
    }
   ],
   "source": [
    "(1+2)**3"
   ]
  },
  {
   "cell_type": "code",
   "execution_count": 15,
   "id": "91ecf5da",
   "metadata": {},
   "outputs": [
    {
     "data": {
      "text/plain": [
       "'DaDaDaDa'"
      ]
     },
     "execution_count": 15,
     "metadata": {},
     "output_type": "execute_result"
    }
   ],
   "source": [
    "\"Da\"*4"
   ]
  },
  {
   "cell_type": "code",
   "execution_count": 16,
   "id": "539619dc",
   "metadata": {},
   "outputs": [
    {
     "ename": "TypeError",
     "evalue": "can only concatenate str (not \"int\") to str",
     "output_type": "error",
     "traceback": [
      "\u001b[0;31m---------------------------------------------------------------------------\u001b[0m",
      "\u001b[0;31mTypeError\u001b[0m                                 Traceback (most recent call last)",
      "Cell \u001b[0;32mIn[16], line 1\u001b[0m\n\u001b[0;32m----> 1\u001b[0m \u001b[38;5;124;43m\"\u001b[39;49m\u001b[38;5;124;43mDa\u001b[39;49m\u001b[38;5;124;43m\"\u001b[39;49m\u001b[38;5;241;43m+\u001b[39;49m\u001b[38;5;241;43m3\u001b[39;49m\n",
      "\u001b[0;31mTypeError\u001b[0m: can only concatenate str (not \"int\") to str"
     ]
    }
   ],
   "source": [
    "\"Da\"+3"
   ]
  },
  {
   "cell_type": "code",
   "execution_count": 17,
   "id": "6508def8",
   "metadata": {},
   "outputs": [
    {
     "data": {
      "text/plain": [
       "'PaLaPaLa'"
      ]
     },
     "execution_count": 17,
     "metadata": {},
     "output_type": "execute_result"
    }
   ],
   "source": [
    "(\"Pa\"+\"La\")*2"
   ]
  },
  {
   "cell_type": "code",
   "execution_count": 18,
   "id": "d402e13d",
   "metadata": {},
   "outputs": [
    {
     "ename": "TypeError",
     "evalue": "unsupported operand type(s) for /: 'str' and 'int'",
     "output_type": "error",
     "traceback": [
      "\u001b[0;31m---------------------------------------------------------------------------\u001b[0m",
      "\u001b[0;31mTypeError\u001b[0m                                 Traceback (most recent call last)",
      "Cell \u001b[0;32mIn[18], line 1\u001b[0m\n\u001b[0;32m----> 1\u001b[0m \u001b[43m(\u001b[49m\u001b[38;5;124;43m\"\u001b[39;49m\u001b[38;5;124;43mDa\u001b[39;49m\u001b[38;5;124;43m\"\u001b[39;49m\u001b[38;5;241;43m*\u001b[39;49m\u001b[38;5;241;43m4\u001b[39;49m\u001b[43m)\u001b[49m\u001b[38;5;241;43m/\u001b[39;49m\u001b[38;5;241;43m2\u001b[39;49m\n",
      "\u001b[0;31mTypeError\u001b[0m: unsupported operand type(s) for /: 'str' and 'int'"
     ]
    }
   ],
   "source": [
    "(\"Da\"*4)/2"
   ]
  },
  {
   "cell_type": "code",
   "execution_count": 19,
   "id": "422f0011",
   "metadata": {},
   "outputs": [
    {
     "data": {
      "text/plain": [
       "2.5"
      ]
     },
     "execution_count": 19,
     "metadata": {},
     "output_type": "execute_result"
    }
   ],
   "source": [
    "5/2"
   ]
  },
  {
   "cell_type": "code",
   "execution_count": 20,
   "id": "e34985a6",
   "metadata": {},
   "outputs": [
    {
     "data": {
      "text/plain": [
       "2"
      ]
     },
     "execution_count": 20,
     "metadata": {},
     "output_type": "execute_result"
    }
   ],
   "source": [
    "5//2"
   ]
  },
  {
   "cell_type": "code",
   "execution_count": 21,
   "id": "68fda619",
   "metadata": {},
   "outputs": [
    {
     "data": {
      "text/plain": [
       "1"
      ]
     },
     "execution_count": 21,
     "metadata": {},
     "output_type": "execute_result"
    }
   ],
   "source": [
    "5%2"
   ]
  },
  {
   "cell_type": "code",
   "execution_count": 22,
   "id": "77742764",
   "metadata": {},
   "outputs": [
    {
     "data": {
      "text/plain": [
       "'444'"
      ]
     },
     "execution_count": 22,
     "metadata": {},
     "output_type": "execute_result"
    }
   ],
   "source": [
    "str(4)*int(\"3\")"
   ]
  },
  {
   "cell_type": "code",
   "execution_count": 23,
   "id": "da988d8e",
   "metadata": {},
   "outputs": [
    {
     "data": {
      "text/plain": [
       "6.2"
      ]
     },
     "execution_count": 23,
     "metadata": {},
     "output_type": "execute_result"
    }
   ],
   "source": [
    "int(\"3\")+float(\"3.2\")"
   ]
  },
  {
   "cell_type": "code",
   "execution_count": 24,
   "id": "69b01ad1",
   "metadata": {},
   "outputs": [
    {
     "ename": "TypeError",
     "evalue": "can't multiply sequence by non-int of type 'float'",
     "output_type": "error",
     "traceback": [
      "\u001b[0;31m---------------------------------------------------------------------------\u001b[0m",
      "\u001b[0;31mTypeError\u001b[0m                                 Traceback (most recent call last)",
      "Cell \u001b[0;32mIn[24], line 1\u001b[0m\n\u001b[0;32m----> 1\u001b[0m \u001b[38;5;28;43mstr\u001b[39;49m\u001b[43m(\u001b[49m\u001b[38;5;241;43m3\u001b[39;49m\u001b[43m)\u001b[49m\u001b[43m \u001b[49m\u001b[38;5;241;43m*\u001b[39;49m\u001b[43m \u001b[49m\u001b[38;5;28;43mfloat\u001b[39;49m\u001b[43m(\u001b[49m\u001b[38;5;124;43m\"\u001b[39;49m\u001b[38;5;124;43m3.2\u001b[39;49m\u001b[38;5;124;43m\"\u001b[39;49m\u001b[43m)\u001b[49m\n",
      "\u001b[0;31mTypeError\u001b[0m: can't multiply sequence by non-int of type 'float'"
     ]
    }
   ],
   "source": [
    "str(3) * float(\"3.2\")"
   ]
  },
  {
   "cell_type": "code",
   "execution_count": 25,
   "id": "d1f4b3be",
   "metadata": {},
   "outputs": [
    {
     "data": {
      "text/plain": [
       "'0.750.75'"
      ]
     },
     "execution_count": 25,
     "metadata": {},
     "output_type": "execute_result"
    }
   ],
   "source": [
    "str(3/4) * 2"
   ]
  },
  {
   "cell_type": "code",
   "execution_count": 27,
   "id": "77a83edd",
   "metadata": {},
   "outputs": [
    {
     "name": "stdout",
     "output_type": "stream",
     "text": [
      "Hello world!"
     ]
    }
   ],
   "source": [
    "print(\"Hello world!\", end=\"\")"
   ]
  },
  {
   "cell_type": "code",
   "execution_count": 28,
   "id": "561bc208",
   "metadata": {},
   "outputs": [
    {
     "name": "stdout",
     "output_type": "stream",
     "text": [
      "Hello world!\n"
     ]
    }
   ],
   "source": [
    "print(\"Hello world!\")"
   ]
  },
  {
   "cell_type": "code",
   "execution_count": 33,
   "id": "6befffe9",
   "metadata": {},
   "outputs": [
    {
     "name": "stdout",
     "output_type": "stream",
     "text": [
      "Hello Joe!\n"
     ]
    }
   ],
   "source": [
    "print(\"Hello\", end=\" \"); print(\"Joe!\")"
   ]
  },
  {
   "cell_type": "code",
   "execution_count": 37,
   "id": "1d855716",
   "metadata": {},
   "outputs": [
    {
     "name": "stdout",
     "output_type": "stream",
     "text": [
      "Agash a 19 ans\n"
     ]
    }
   ],
   "source": [
    "x=19\n",
    "nom=\"Agash\"\n",
    "print(nom,\"a\",x,\"ans\",sep=\" \")"
   ]
  },
  {
   "cell_type": "code",
   "execution_count": 41,
   "id": "d3e7b34f",
   "metadata": {},
   "outputs": [
    {
     "name": "stdout",
     "output_type": "stream",
     "text": [
      "chat souris\n"
     ]
    }
   ],
   "source": [
    "anis1=\"chat\"\n",
    "anis2=\"souris\"\n",
    "print(anis1,anis2,sep=\" \")"
   ]
  },
  {
   "cell_type": "code",
   "execution_count": 42,
   "id": "85793325",
   "metadata": {},
   "outputs": [
    {
     "name": "stdout",
     "output_type": "stream",
     "text": [
      "Agash a 19 ans\n"
     ]
    }
   ],
   "source": [
    "x = 19\n",
    "nom = \"Agash\"\n",
    "print(f\"{nom} a {x} ans\")"
   ]
  },
  {
   "cell_type": "code",
   "execution_count": 47,
   "id": "bcb8c8f7",
   "metadata": {},
   "outputs": [
    {
     "name": "stdout",
     "output_type": "stream",
     "text": [
      "to + to font toto\n"
     ]
    }
   ],
   "source": [
    "to=\"to\"\n",
    "print(f\"{to} + {to} font {to}{to}\")"
   ]
  },
  {
   "cell_type": "code",
   "execution_count": 48,
   "id": "6d1743c2",
   "metadata": {},
   "outputs": [
    {
     "name": "stdout",
     "output_type": "stream",
     "text": [
      "10 + 10 = 20\n"
     ]
    }
   ],
   "source": [
    "print(f\"{10} + {10} = {20}\")"
   ]
  },
  {
   "cell_type": "code",
   "execution_count": 49,
   "id": "da525ee1",
   "metadata": {},
   "outputs": [
    {
     "name": "stdout",
     "output_type": "stream",
     "text": [
      "10 + 10 = 20\n"
     ]
    }
   ],
   "source": [
    "f=10\n",
    "print(f\"{f} + {f} = {f+f}\")"
   ]
  },
  {
   "cell_type": "code",
   "execution_count": 54,
   "id": "bfc36b30",
   "metadata": {},
   "outputs": [
    {
     "name": "stdout",
     "output_type": "stream",
     "text": [
      "La proportion de GC est 0.4780405405405405\n"
     ]
    }
   ],
   "source": [
    "prop_GC = (4500 + 2575) / 14800\n",
    "print(f\"La proportion de GC est {prop_GC}\")"
   ]
  },
  {
   "cell_type": "code",
   "execution_count": 4,
   "id": "8c7defad",
   "metadata": {},
   "outputs": [
    {
     "data": {
      "text/plain": [
       "'Joe a 20 ans.'"
      ]
     },
     "execution_count": 4,
     "metadata": {},
     "output_type": "execute_result"
    }
   ],
   "source": [
    "\"Joe a {} ans.\".format(20)"
   ]
  },
  {
   "cell_type": "code",
   "execution_count": 5,
   "id": "7ac4c923",
   "metadata": {},
   "outputs": [
    {
     "data": {
      "text/plain": [
       "'AAAAAAAAAAAAAAAAAAAA'"
      ]
     },
     "execution_count": 5,
     "metadata": {},
     "output_type": "execute_result"
    }
   ],
   "source": [
    "\"A\"*20"
   ]
  },
  {
   "cell_type": "code",
   "execution_count": 6,
   "id": "fbef53ec",
   "metadata": {},
   "outputs": [
    {
     "data": {
      "text/plain": [
       "'AAAAAAAAAAAAAAAAAAAAGCGCGCGCGCGCGCGCGCGCGCGCGCGCGCGCGCGCGCGC'"
      ]
     },
     "execution_count": 6,
     "metadata": {},
     "output_type": "execute_result"
    }
   ],
   "source": [
    "\"A\"*20+ \"GC\"*20"
   ]
  },
  {
   "cell_type": "code",
   "execution_count": 18,
   "id": "6d1fe835",
   "metadata": {},
   "outputs": [
    {
     "name": "stdout",
     "output_type": "stream",
     "text": [
      "salut , 108 , 10.32\n"
     ]
    }
   ],
   "source": [
    "a,b,c=\"salut\",108,10.318\n",
    "print(f\"{a} , {b} , {c:.2f}\")"
   ]
  },
  {
   "cell_type": "code",
   "execution_count": 23,
   "id": "4b1a15db",
   "metadata": {},
   "outputs": [
    {
     "name": "stdout",
     "output_type": "stream",
     "text": [
      "Le pourcentage de GC est 48 %\n",
      "Le pourcentage de GC est 47.8 %\n",
      "Le pourcentage de GC est 47.80 %\n",
      "Le pourcentage de GC est 47.804 %\n"
     ]
    }
   ],
   "source": [
    "perc_GC = ((4500 + 2575)/14800)*100\n",
    "print(f\"Le pourcentage de GC est {perc_GC:.0f} %\")\n",
    "print(f\"Le pourcentage de GC est {perc_GC:.1f} %\")\n",
    "print(f\"Le pourcentage de GC est {perc_GC:.2f} %\")\n",
    "print(f\"Le pourcentage de GC est {perc_GC:.3f} %\")"
   ]
  },
  {
   "cell_type": "code",
   "execution_count": 24,
   "id": "d915d120",
   "metadata": {},
   "outputs": [
    {
     "data": {
      "text/plain": [
       "['girafe', 'tigre', 'singe', 'souris']"
      ]
     },
     "execution_count": 24,
     "metadata": {},
     "output_type": "execute_result"
    }
   ],
   "source": [
    "ani1 = [\"girafe\", \"tigre\"]\n",
    "ani2 = [\"singe\", \"souris\"]\n",
    "ani1 + ani2"
   ]
  },
  {
   "cell_type": "code",
   "execution_count": 25,
   "id": "35c0c9e2",
   "metadata": {},
   "outputs": [
    {
     "data": {
      "text/plain": [
       "['girafe',\n",
       " 'tigre',\n",
       " 'singe',\n",
       " 'souris',\n",
       " 'girafe',\n",
       " 'tigre',\n",
       " 'singe',\n",
       " 'souris',\n",
       " 'girafe',\n",
       " 'tigre',\n",
       " 'singe',\n",
       " 'souris']"
      ]
     },
     "execution_count": 25,
     "metadata": {},
     "output_type": "execute_result"
    }
   ],
   "source": [
    "(ani1 + ani2)*3"
   ]
  },
  {
   "cell_type": "code",
   "execution_count": 30,
   "id": "252cc6ce",
   "metadata": {},
   "outputs": [
    {
     "data": {
      "text/plain": [
       "[2, 3]"
      ]
     },
     "execution_count": 30,
     "metadata": {},
     "output_type": "execute_result"
    }
   ],
   "source": [
    "A=[2]\n",
    "A=A+[3]\n",
    "A"
   ]
  },
  {
   "cell_type": "code",
   "execution_count": 31,
   "id": "7e7f4015",
   "metadata": {},
   "outputs": [
    {
     "data": {
      "text/plain": [
       "[2, 3, 4]"
      ]
     },
     "execution_count": 31,
     "metadata": {},
     "output_type": "execute_result"
    }
   ],
   "source": [
    "A.append(4)\n",
    "A"
   ]
  },
  {
   "cell_type": "code",
   "execution_count": 34,
   "id": "34ada841",
   "metadata": {},
   "outputs": [
    {
     "data": {
      "text/plain": [
       "[0, 3]"
      ]
     },
     "execution_count": 34,
     "metadata": {},
     "output_type": "execute_result"
    }
   ],
   "source": [
    "x = [0, 1, 2, 3, 4, 5, 6, 7, 8, 9]\n",
    "x[:5:3]"
   ]
  },
  {
   "cell_type": "code",
   "execution_count": 35,
   "id": "c0ebc288",
   "metadata": {},
   "outputs": [
    {
     "data": {
      "text/plain": [
       "[10, 9, 8, 7, 6, 5, 4, 3, 2, 1]"
      ]
     },
     "execution_count": 35,
     "metadata": {},
     "output_type": "execute_result"
    }
   ],
   "source": [
    "list(range(10,0,-1))"
   ]
  },
  {
   "cell_type": "code",
   "execution_count": 39,
   "id": "1d8050ea",
   "metadata": {},
   "outputs": [
    {
     "data": {
      "text/plain": [
       "[['girafe', 4], ['tigre', 2], ['singe', 5]]"
      ]
     },
     "execution_count": 39,
     "metadata": {},
     "output_type": "execute_result"
    }
   ],
   "source": [
    "enclos1 = [\"girafe\", 4]\n",
    "enclos2 = [\"tigre\", 2]\n",
    "enclos3 = [\"singe\", 5]\n",
    "zoo = [enclos1, enclos2, enclos3]\n",
    "zoo"
   ]
  },
  {
   "cell_type": "code",
   "execution_count": 40,
   "id": "ab67e247",
   "metadata": {},
   "outputs": [
    {
     "data": {
      "text/plain": [
       "['girafe', 4]"
      ]
     },
     "execution_count": 40,
     "metadata": {},
     "output_type": "execute_result"
    }
   ],
   "source": [
    "zoo[0]"
   ]
  },
  {
   "cell_type": "code",
   "execution_count": 42,
   "id": "0b2a0963",
   "metadata": {},
   "outputs": [
    {
     "data": {
      "text/plain": [
       "'girafe'"
      ]
     },
     "execution_count": 42,
     "metadata": {},
     "output_type": "execute_result"
    }
   ],
   "source": [
    "zoo[0][0]"
   ]
  },
  {
   "cell_type": "code",
   "execution_count": 74,
   "id": "718282ff",
   "metadata": {},
   "outputs": [
    {
     "name": "stdout",
     "output_type": "stream",
     "text": [
      "['lundi', 'mardi', 'mercredi', 'jeudi', 'vendredi', 'samedi', 'dimanche']\n",
      "['lundi', 'mardi', 'mercredi', 'jeudi', 'vendredi']\n",
      "['samedi', 'dimanche']\n",
      "['lundi', 'mardi', 'mercredi', 'jeudi', 'vendredi']\n",
      "['samedi', 'dimanche']\n",
      "dimanche\n",
      "dimanche\n",
      "['dimanche', 'samedi', 'vendredi', 'jeudi', 'mercredi', 'mardi', 'lundi']\n"
     ]
    }
   ],
   "source": [
    "liste=[\"lundi\",\"mardi\",\"mercredi\",\"jeudi\",\"vendredi\",\"samedi\",\"dimanche\"]\n",
    "print(liste)\n",
    "\n",
    "listedébut= liste[0:5]\n",
    "print(listedébut)\n",
    "listefin=liste[5:7]\n",
    "print(listefin)\n",
    "\n",
    "listedébut= liste[-7:-2:1]\n",
    "print(listedébut)\n",
    "listefin=liste[-2::1]\n",
    "print(listefin)\n",
    "\n",
    "print(liste[-1])\n",
    "print(liste[6])\n",
    "\n",
    "listeinverse=liste[::-1]\n",
    "print(listeinverse)"
   ]
  },
  {
   "cell_type": "code",
   "execution_count": 88,
   "id": "b933aa77",
   "metadata": {},
   "outputs": [
    {
     "data": {
      "text/plain": [
       "'hiver'"
      ]
     },
     "execution_count": 88,
     "metadata": {},
     "output_type": "execute_result"
    }
   ],
   "source": [
    "H=[\"hiver\"]\n",
    "E=[\"été\"]\n",
    "A=[\"automne\"]\n",
    "P=[\"printemps\"]\n",
    "saisons=H+P+E+A\n",
    "saisons[2]\n",
    "saisons[1][0]\n",
    "saisons[1:2]\n",
    "saisons[:][0]"
   ]
  },
  {
   "cell_type": "code",
   "execution_count": 89,
   "id": "23e1d9b8",
   "metadata": {},
   "outputs": [
    {
     "data": {
      "text/plain": [
       "[0, 9, 18, 27, 36, 45, 54, 63, 72, 81, 90]"
      ]
     },
     "execution_count": 89,
     "metadata": {},
     "output_type": "execute_result"
    }
   ],
   "source": [
    "list(range(0,91,9))"
   ]
  },
  {
   "cell_type": "code",
   "execution_count": 91,
   "id": "1361271a",
   "metadata": {},
   "outputs": [
    {
     "data": {
      "text/plain": [
       "5000"
      ]
     },
     "execution_count": 91,
     "metadata": {},
     "output_type": "execute_result"
    }
   ],
   "source": [
    "len(list(range(2,10001,2)))"
   ]
  },
  {
   "cell_type": "code",
   "execution_count": 92,
   "id": "f1c69e39",
   "metadata": {},
   "outputs": [
    {
     "name": "stdout",
     "output_type": "stream",
     "text": [
      "vache\n",
      "souris\n",
      "levure\n",
      "bacterie\n"
     ]
    }
   ],
   "source": [
    "liste=[\"vache\", \"souris\", \"levure\", \"bacterie\"]\n",
    "for i in range (4):\n",
    "    print(liste[i])"
   ]
  },
  {
   "cell_type": "code",
   "execution_count": 93,
   "id": "4e9a2d6d",
   "metadata": {},
   "outputs": [
    {
     "name": "stdout",
     "output_type": "stream",
     "text": [
      "vache\n",
      "souris\n",
      "levure\n",
      "bacterie\n"
     ]
    }
   ],
   "source": [
    "for i, animal in enumerate(liste):\n",
    "    print(animal)"
   ]
  },
  {
   "cell_type": "code",
   "execution_count": 94,
   "id": "5c576323",
   "metadata": {},
   "outputs": [
    {
     "name": "stdout",
     "output_type": "stream",
     "text": [
      "vache\n",
      "souris\n",
      "levure\n",
      "bacterie\n"
     ]
    }
   ],
   "source": [
    "i=0\n",
    "while i<4:\n",
    "    print(liste[i])\n",
    "    i=i+1"
   ]
  },
  {
   "cell_type": "code",
   "execution_count": 97,
   "id": "89621a17",
   "metadata": {},
   "outputs": [
    {
     "name": "stdout",
     "output_type": "stream",
     "text": [
      "lundi\n",
      "mardi\n",
      "mercredi\n",
      "jeudi\n",
      "vendredi\n"
     ]
    }
   ],
   "source": [
    "liste=[\"lundi\",\"mardi\",\"mercredi\",\"jeudi\",\"vendredi\",\"samedi\",\"dimanche\"]\n",
    "for i in range(5):\n",
    "    print(liste[i])"
   ]
  },
  {
   "cell_type": "code",
   "execution_count": 98,
   "id": "29fcb315",
   "metadata": {},
   "outputs": [
    {
     "name": "stdout",
     "output_type": "stream",
     "text": [
      "samedi\n",
      "dimanche\n"
     ]
    }
   ],
   "source": [
    "i=5\n",
    "while i<7:\n",
    "    print(liste[i])\n",
    "    i=i+1"
   ]
  },
  {
   "cell_type": "code",
   "execution_count": 99,
   "id": "259d38c2",
   "metadata": {},
   "outputs": [
    {
     "name": "stdout",
     "output_type": "stream",
     "text": [
      "[1, 2, 3, 4, 5, 6, 7, 8, 9, 10]\n"
     ]
    }
   ],
   "source": [
    "l=[]\n",
    "for i in range(1,11):\n",
    "    l.append(i)\n",
    "print(l)"
   ]
  },
  {
   "cell_type": "code",
   "execution_count": 101,
   "id": "9d592c52",
   "metadata": {},
   "outputs": [
    {
     "name": "stdout",
     "output_type": "stream",
     "text": [
      "[2, 4, 6, 8, 10, 12, 14, 16, 18, 20, 22]\n"
     ]
    }
   ],
   "source": [
    "l=[]\n",
    "impairs=[1, 3, 5, 7, 9, 11, 13, 15, 17, 19, 21]\n",
    "for i in range(len(impairs)):\n",
    "    l.append(impairs[i]+1)\n",
    "print(l)"
   ]
  },
  {
   "cell_type": "code",
   "execution_count": 106,
   "id": "f50b1080",
   "metadata": {},
   "outputs": [
    {
     "name": "stdout",
     "output_type": "stream",
     "text": [
      "La moyenne de l'élève est 9.80\n"
     ]
    }
   ],
   "source": [
    "note=[14, 9, 6, 8, 12]\n",
    "s=0\n",
    "for i in range(len(note)):\n",
    "    s=s+note[i]\n",
    "m=s/(i+1)\n",
    "print(f\"La moyenne de l'élève est {m:.2f}\")"
   ]
  },
  {
   "cell_type": "code",
   "execution_count": 110,
   "id": "e220d1f7",
   "metadata": {},
   "outputs": [
    {
     "name": "stdout",
     "output_type": "stream",
     "text": [
      "8\n",
      "24\n",
      "48\n",
      "80\n",
      "120\n",
      "168\n",
      "224\n",
      "288\n",
      "360\n"
     ]
    }
   ],
   "source": [
    "l=list(range(2,21,2))\n",
    "for i in range(1,10,1):\n",
    "    print(l[i-1]*l[i])"
   ]
  },
  {
   "cell_type": "code",
   "execution_count": 117,
   "id": "2f89abd0",
   "metadata": {},
   "outputs": [
    {
     "name": "stdout",
     "output_type": "stream",
     "text": [
      "\n",
      "*\n",
      "**\n",
      "***\n",
      "****\n",
      "*****\n",
      "******\n",
      "*******\n",
      "********\n",
      "*********\n",
      "**********\n"
     ]
    }
   ],
   "source": [
    "for i in range(11):\n",
    "    print(i*\"*\")"
   ]
  },
  {
   "cell_type": "code",
   "execution_count": 116,
   "id": "80aa1728",
   "metadata": {},
   "outputs": [
    {
     "name": "stdout",
     "output_type": "stream",
     "text": [
      "***********\n",
      "**********\n",
      "*********\n",
      "********\n",
      "*******\n",
      "******\n",
      "*****\n",
      "****\n",
      "***\n",
      "**\n",
      "*\n"
     ]
    }
   ],
   "source": [
    "for i in range(11,0,-1):\n",
    "    print(i*\"*\")"
   ]
  },
  {
   "cell_type": "code",
   "execution_count": 115,
   "id": "7b5b23da",
   "metadata": {},
   "outputs": [
    {
     "name": "stdout",
     "output_type": "stream",
     "text": [
      "           \n",
      "          *\n",
      "         **\n",
      "        ***\n",
      "       ****\n",
      "      *****\n",
      "     ******\n",
      "    *******\n",
      "   ********\n",
      "  *********\n",
      " **********\n"
     ]
    }
   ],
   "source": [
    "for i in range(11):\n",
    "    print((11-i)*\" \"+ i*\"*\")"
   ]
  },
  {
   "cell_type": "code",
   "execution_count": 128,
   "id": "29147805",
   "metadata": {},
   "outputs": [
    {
     "name": "stdout",
     "output_type": "stream",
     "text": [
      "                     *\n",
      "                    ***\n",
      "                   *****\n",
      "                  *******\n",
      "                 *********\n",
      "                ***********\n",
      "               *************\n",
      "              ***************\n",
      "             *****************\n",
      "            *******************\n"
     ]
    }
   ],
   "source": [
    "N=21\n",
    "for h,i in enumerate (range(1,N,2)):\n",
    "    print((N-h)*\" \"+ i*\"*\")"
   ]
  },
  {
   "cell_type": "code",
   "execution_count": 146,
   "id": "b07fa40b",
   "metadata": {},
   "outputs": [
    {
     "name": "stdout",
     "output_type": "stream",
     "text": [
      "ligne colonne\n",
      "   1     1\n",
      "   1     2\n",
      "   1     3\n",
      "   1     4\n",
      "   1     5\n",
      "   1     6\n",
      "   1     7\n",
      "   1     8\n",
      "   1     9\n",
      "   1     10\n",
      "   2     1\n",
      "   2     2\n",
      "   2     3\n",
      "   2     4\n",
      "   2     5\n",
      "   2     6\n",
      "   2     7\n",
      "   2     8\n",
      "   2     9\n",
      "   2     10\n",
      "   3     1\n",
      "   3     2\n",
      "   3     3\n",
      "   3     4\n",
      "   3     5\n",
      "   3     6\n",
      "   3     7\n",
      "   3     8\n",
      "   3     9\n",
      "   3     10\n",
      "   4     1\n",
      "   4     2\n",
      "   4     3\n",
      "   4     4\n",
      "   4     5\n",
      "   4     6\n",
      "   4     7\n",
      "   4     8\n",
      "   4     9\n",
      "   4     10\n",
      "   5     1\n",
      "   5     2\n",
      "   5     3\n",
      "   5     4\n",
      "   5     5\n",
      "   5     6\n",
      "   5     7\n",
      "   5     8\n",
      "   5     9\n",
      "   5     10\n",
      "   6     1\n",
      "   6     2\n",
      "   6     3\n",
      "   6     4\n",
      "   6     5\n",
      "   6     6\n",
      "   6     7\n",
      "   6     8\n",
      "   6     9\n",
      "   6     10\n",
      "   7     1\n",
      "   7     2\n",
      "   7     3\n",
      "   7     4\n",
      "   7     5\n",
      "   7     6\n",
      "   7     7\n",
      "   7     8\n",
      "   7     9\n",
      "   7     10\n",
      "   8     1\n",
      "   8     2\n",
      "   8     3\n",
      "   8     4\n",
      "   8     5\n",
      "   8     6\n",
      "   8     7\n",
      "   8     8\n",
      "   8     9\n",
      "   8     10\n",
      "   9     1\n",
      "   9     2\n",
      "   9     3\n",
      "   9     4\n",
      "   9     5\n",
      "   9     6\n",
      "   9     7\n",
      "   9     8\n",
      "   9     9\n",
      "   9     10\n",
      "   10     1\n",
      "   10     2\n",
      "   10     3\n",
      "   10     4\n",
      "   10     5\n",
      "   10     6\n",
      "   10     7\n",
      "   10     8\n",
      "   10     9\n",
      "   10     10\n"
     ]
    }
   ],
   "source": [
    "N=10\n",
    "print(\"ligne colonne\")\n",
    "for i in range(1,N+1):\n",
    "    for j in range(1,N+1):\n",
    "        print(f\"   {i:.0f}     {j:.0f}\")"
   ]
  },
  {
   "cell_type": "code",
   "execution_count": 151,
   "id": "87f256ab",
   "metadata": {},
   "outputs": [
    {
     "name": "stdout",
     "output_type": "stream",
     "text": [
      "ligne colonne\n",
      "   1     2\n",
      "   1     3\n",
      "   1     4\n",
      "   1     5\n",
      "   2     3\n",
      "   2     4\n",
      "   2     5\n",
      "   3     4\n",
      "   3     5\n",
      "   4     5\n",
      "Pour une matrice 5x5, on a parcouru 10 cases\n"
     ]
    }
   ],
   "source": [
    "N=5\n",
    "s=0\n",
    "print(\"ligne colonne\")\n",
    "for i in range(1,N+1):\n",
    "    for j in range(i+1,N+1):\n",
    "        s=s+1\n",
    "        print(f\"   {i:.0f}     {j:.0f}\")\n",
    "print(f\"Pour une matrice {N}x{N}, on a parcouru {s} cases\")"
   ]
  },
  {
   "cell_type": "code",
   "execution_count": 162,
   "id": "b68c9bf7",
   "metadata": {},
   "outputs": [
    {
     "name": "stdout",
     "output_type": "stream",
     "text": [
      "4866\n"
     ]
    }
   ],
   "source": [
    "import random\n",
    "t=0\n",
    "r=0\n",
    "while t<=5:\n",
    "    t=t+random.choice([-1,1])\n",
    "    r=r+1\n",
    "print(r)"
   ]
  },
  {
   "cell_type": "code",
   "execution_count": 169,
   "id": "edbd5735",
   "metadata": {},
   "outputs": [
    {
     "name": "stdout",
     "output_type": "stream",
     "text": [
      "[0, 1, 1, 2, 3, 5, 8, 13, 21, 34, 55, 89, 144, 233, 377]\n"
     ]
    }
   ],
   "source": [
    "N=15\n",
    "Fibonacci=[0,1]\n",
    "for i in range(2,N):\n",
    "    Fibonacci.append(Fibonacci[i-2]+Fibonacci[i-1])\n",
    "print(Fibonacci)"
   ]
  },
  {
   "cell_type": "code",
   "execution_count": 3,
   "id": "db1251e0",
   "metadata": {},
   "outputs": [
    {
     "name": "stdout",
     "output_type": "stream",
     "text": [
      "On est au travail\n",
      "On est au travail\n",
      "On est au travail\n",
      "On est au travail\n",
      "Chouette c'est vendredi\n",
      "Repos ce week-end\n",
      "Repos ce week-end\n"
     ]
    }
   ],
   "source": [
    "liste=[\"lundi\",\"mardi\",\"mercredi\",\"jeudi\",\"vendredi\",\"samedi\",\"dimanche\"]\n",
    "for i in range(7):\n",
    "    if liste[i]==\"lundi\" or liste[i]==\"mardi\" or liste[i]==\"mercredi\" or liste[i]==\"jeudi\":\n",
    "        print(\"On est au travail\")\n",
    "    if liste[i]==\"samedi\" or liste[i]==\"dimanche\":\n",
    "        print(\"Repos ce week-end\")\n",
    "    if liste[i]==\"vendredi\":\n",
    "        print(\"Chouette c'est vendredi\")"
   ]
  },
  {
   "cell_type": "code",
   "execution_count": 7,
   "id": "ca44dd08",
   "metadata": {},
   "outputs": [
    {
     "name": "stdout",
     "output_type": "stream",
     "text": [
      "['T', 'G', 'C', 'A', 'A', 'T', 'C', 'G', 'A', 'T', 'T', 'G', 'C']\n"
     ]
    }
   ],
   "source": [
    "l=[\"A\", \"C\", \"G\", \"T\", \"T\", \"A\", \"G\", \"C\", \"T\", \"A\", \"A\", \"C\", \"G\"]\n",
    "for i in range (len(l)):\n",
    "    if l[i]==\"A\":\n",
    "        l[i]=\"*\"\n",
    "    if l[i]==\"T\":\n",
    "        l[i]=\"A\"\n",
    "    if l[i]==\"*\":\n",
    "        l[i]=\"T\"\n",
    "    if l[i]==\"G\":\n",
    "        l[i]=\"*\"\n",
    "    if l[i]==\"C\":\n",
    "        l[i]=\"G\"\n",
    "    if l[i]==\"*\":\n",
    "        l[i]=\"C\"\n",
    "print(l)"
   ]
  },
  {
   "cell_type": "code",
   "execution_count": 9,
   "id": "6064019d",
   "metadata": {},
   "outputs": [
    {
     "name": "stdout",
     "output_type": "stream",
     "text": [
      "1\n"
     ]
    }
   ],
   "source": [
    "l=[8, 4, 6, 1, 5]\n",
    "s=l[0]\n",
    "for i in range (len(l)):\n",
    "    if s>l[i]:\n",
    "        s=l[i]\n",
    "print(s)"
   ]
  },
  {
   "cell_type": "code",
   "execution_count": 13,
   "id": "11e07bbf",
   "metadata": {},
   "outputs": [
    {
     "name": "stdout",
     "output_type": "stream",
     "text": [
      "La fréquence de l'alanine est de 35.71%\n",
      "La fréquence de l'arginine est de 21.43%\n",
      "La fréquence du tryptophane est de 35.71%\n",
      "La fréquence de la glycine est de 7.14%\n"
     ]
    }
   ],
   "source": [
    "l=[\"A\", \"R\", \"A\", \"W\", \"W\", \"A\", \"W\", \"A\", \"R\", \"W\", \"W\", \"R\", \"A\", \"G\"]\n",
    "a,r,w,g=0,0,0,0\n",
    "for i in range (len(l)):\n",
    "    if l[i]==\"A\":\n",
    "        a=a+1\n",
    "    if l[i]==\"R\":\n",
    "        r=r+1\n",
    "    if l[i]==\"W\":\n",
    "        w=w+1\n",
    "    if l[i]==\"G\":\n",
    "        g=g+1\n",
    "print(f\"La fréquence de l'alanine est de {a*100/len(l):.2f}%\")\n",
    "print(f\"La fréquence de l'arginine est de {r*100/len(l):.2f}%\")\n",
    "print(f\"La fréquence du tryptophane est de {w*100/len(l):.2f}%\")\n",
    "print(f\"La fréquence de la glycine est de {g*100/len(l):.2f}%\")"
   ]
  },
  {
   "cell_type": "code",
   "execution_count": 6,
   "id": "02cb304c",
   "metadata": {},
   "outputs": [
    {
     "name": "stdout",
     "output_type": "stream",
     "text": [
      "15\n",
      "9\n",
      "la moyenne est de 12.60\n",
      "mention bien\n"
     ]
    }
   ],
   "source": [
    "l=[14, 9, 13, 15, 12]\n",
    "print(max(l)) \n",
    "print(min(l))\n",
    "s=0\n",
    "for i in range(len(l)):\n",
    "    s=s+l[i]\n",
    "print(f\"la moyenne est de {s/len(l):.2f}\")\n",
    "if 10<=s<12 :\n",
    "    print(\"mention passable\")\n",
    "if 12<=s<14 :\n",
    "    print(\"mention assez bien\")\n",
    "if 14<=s :\n",
    "    print(\"mention bien\")"
   ]
  },
  {
   "cell_type": "code",
   "execution_count": 8,
   "id": "42ebb837",
   "metadata": {},
   "outputs": [
    {
     "name": "stdout",
     "output_type": "stream",
     "text": [
      "[2, 4, 6, 8, 10] [11, 13, 15, 17, 19]\n"
     ]
    }
   ],
   "source": [
    "pairs=[]\n",
    "impairs=[]\n",
    "for i in range (1,21):\n",
    "    if i%2==0 and i<=10:\n",
    "        pairs.append(i)\n",
    "    if i%2!=0 and i>10:\n",
    "        impairs.append(i)\n",
    "print(pairs,impairs)"
   ]
  },
  {
   "cell_type": "code",
   "execution_count": 15,
   "id": "5b232057",
   "metadata": {},
   "outputs": [
    {
     "name": "stdout",
     "output_type": "stream",
     "text": [
      "[5.0, 16.0, 8.0, 4.0, 2.0, 1.0]\n"
     ]
    }
   ],
   "source": [
    "n=10\n",
    "l=[]\n",
    "while n>1:\n",
    "    if n%2==0:\n",
    "        n=n/2\n",
    "    else:\n",
    "        n=n*3+1\n",
    "    l.append(n)\n",
    "print(l)"
   ]
  },
  {
   "cell_type": "code",
   "execution_count": 20,
   "id": "ff68f6d9",
   "metadata": {},
   "outputs": [
    {
     "name": "stdout",
     "output_type": "stream",
     "text": [
      "[48.6, 53.4] n'est pas en hélice\n",
      "[-124.9, 156.7] n'est pas en hélice\n",
      "[-66.2, -30.8] est en hélice\n",
      "[-58.8, -43.1] est en hélice\n",
      "[-73.9, -40.6] est en hélice\n",
      "[-53.7, -37.5] est en hélice\n",
      "[-80.6, -26.0] est en hélice\n",
      "[-68.5, 135.0] n'est pas en hélice\n",
      "[-64.9, -23.5] est en hélice\n",
      "[-66.9, -45.5] est en hélice\n",
      "[-69.6, -41.0] est en hélice\n",
      "[-62.7, -37.5] est en hélice\n",
      "[-68.2, -38.3] est en hélice\n",
      "[-61.2, -49.1] est en hélice\n",
      "[-59.7, -41.1] est en hélice\n"
     ]
    }
   ],
   "source": [
    "l=[[48.6, 53.4],[-124.9, 156.7],[-66.2, -30.8], \\\n",
    "[-58.8, -43.1],[-73.9, -40.6],[-53.7, -37.5], \\\n",
    "[-80.6, -26.0],[-68.5, 135.0],[-64.9, -23.5], \\\n",
    "[-66.9, -45.5],[-69.6, -41.0],[-62.7, -37.5], \\\n",
    "[-68.2, -38.3],[-61.2, -49.1],[-59.7, -41.1]]\n",
    "for i in range(len(l)):\n",
    "    if -87<=l[i][0]<=-27 and -77<=l[i][1]<=-17:\n",
    "        print(f\"{l[i]} est en hélice\")\n",
    "    else:\n",
    "        print(f\"{l[i]} n'est pas en hélice\")"
   ]
  },
  {
   "cell_type": "code",
   "execution_count": 29,
   "id": "e4736d59",
   "metadata": {},
   "outputs": [
    {
     "name": "stdout",
     "output_type": "stream",
     "text": [
      "[2, 3, 5, 7, 11, 13, 17, 19, 23, 29, 31, 37, 41, 43, 47, 53, 59, 61, 67, 71, 73, 79, 83, 89, 97, 101, 103, 107, 109, 113, 127, 131, 137, 139, 149, 151, 157, 163, 167, 173, 179, 181, 191, 193, 197, 199]\n"
     ]
    }
   ],
   "source": [
    "l=list(range(2,200))\n",
    "p=[]\n",
    "for i in range(len(l)):\n",
    "    s=0\n",
    "    for j in range(1,200,1):\n",
    "        if l[i]%j==0:\n",
    "            s=s+1\n",
    "    if s==2:\n",
    "        p.append(l[i])\n",
    "print(p)"
   ]
  },
  {
   "cell_type": "code",
   "execution_count": 89,
   "id": "ecc8ecb5",
   "metadata": {},
   "outputs": [
    {
     "name": "stdout",
     "output_type": "stream",
     "text": [
      "Est-ce votre nombre est plus grand, plus petit ou égal à 50 ? [+/-/=]+\n",
      "Est-ce votre nombre est plus grand, plus petit ou égal à 75.0 ? [+/-/=]\n",
      "Est-ce votre nombre est plus grand, plus petit ou égal à 75.0 ? [+/-/=]+\n",
      "Est-ce votre nombre est plus grand, plus petit ou égal à 87.5 ? [+/-/=]-\n"
     ]
    },
    {
     "ename": "KeyboardInterrupt",
     "evalue": "Interrupted by user",
     "output_type": "error",
     "traceback": [
      "\u001b[0;31m---------------------------------------------------------------------------\u001b[0m",
      "\u001b[0;31mKeyboardInterrupt\u001b[0m                         Traceback (most recent call last)",
      "Cell \u001b[0;32mIn[89], line 7\u001b[0m\n\u001b[1;32m      5\u001b[0m s\u001b[38;5;241m=\u001b[39m\u001b[38;5;124m\"\u001b[39m\u001b[38;5;124m \u001b[39m\u001b[38;5;124m\"\u001b[39m\n\u001b[1;32m      6\u001b[0m \u001b[38;5;28;01mwhile\u001b[39;00m s \u001b[38;5;241m!=\u001b[39m \u001b[38;5;124m\"\u001b[39m\u001b[38;5;124m=\u001b[39m\u001b[38;5;124m\"\u001b[39m:\n\u001b[0;32m----> 7\u001b[0m     s\u001b[38;5;241m=\u001b[39m\u001b[38;5;28;43minput\u001b[39;49m\u001b[43m(\u001b[49m\u001b[38;5;124;43mf\u001b[39;49m\u001b[38;5;124;43m\"\u001b[39;49m\u001b[38;5;124;43mEst-ce votre nombre est plus grand, plus petit ou égal à \u001b[39;49m\u001b[38;5;132;43;01m{\u001b[39;49;00m\u001b[43mc\u001b[49m\u001b[38;5;132;43;01m}\u001b[39;49;00m\u001b[38;5;124;43m ? [+/-/=]\u001b[39;49m\u001b[38;5;124;43m\"\u001b[39;49m\u001b[43m)\u001b[49m\n\u001b[1;32m      8\u001b[0m     \u001b[38;5;28;01mif\u001b[39;00m s \u001b[38;5;241m==\u001b[39m \u001b[38;5;124m\"\u001b[39m\u001b[38;5;124m+\u001b[39m\u001b[38;5;124m\"\u001b[39m:\n\u001b[1;32m      9\u001b[0m         a\u001b[38;5;241m=\u001b[39m(a\u001b[38;5;241m+\u001b[39mb)\u001b[38;5;241m/\u001b[39m\u001b[38;5;241m2\u001b[39m\n",
      "File \u001b[0;32m/opt/conda/lib/python3.10/site-packages/ipykernel/kernelbase.py:1177\u001b[0m, in \u001b[0;36mKernel.raw_input\u001b[0;34m(self, prompt)\u001b[0m\n\u001b[1;32m   1173\u001b[0m \u001b[38;5;28;01mif\u001b[39;00m \u001b[38;5;129;01mnot\u001b[39;00m \u001b[38;5;28mself\u001b[39m\u001b[38;5;241m.\u001b[39m_allow_stdin:\n\u001b[1;32m   1174\u001b[0m     \u001b[38;5;28;01mraise\u001b[39;00m StdinNotImplementedError(\n\u001b[1;32m   1175\u001b[0m         \u001b[38;5;124m\"\u001b[39m\u001b[38;5;124mraw_input was called, but this frontend does not support input requests.\u001b[39m\u001b[38;5;124m\"\u001b[39m\n\u001b[1;32m   1176\u001b[0m     )\n\u001b[0;32m-> 1177\u001b[0m \u001b[38;5;28;01mreturn\u001b[39;00m \u001b[38;5;28;43mself\u001b[39;49m\u001b[38;5;241;43m.\u001b[39;49m\u001b[43m_input_request\u001b[49m\u001b[43m(\u001b[49m\n\u001b[1;32m   1178\u001b[0m \u001b[43m    \u001b[49m\u001b[38;5;28;43mstr\u001b[39;49m\u001b[43m(\u001b[49m\u001b[43mprompt\u001b[49m\u001b[43m)\u001b[49m\u001b[43m,\u001b[49m\n\u001b[1;32m   1179\u001b[0m \u001b[43m    \u001b[49m\u001b[38;5;28;43mself\u001b[39;49m\u001b[38;5;241;43m.\u001b[39;49m\u001b[43m_parent_ident\u001b[49m\u001b[43m[\u001b[49m\u001b[38;5;124;43m\"\u001b[39;49m\u001b[38;5;124;43mshell\u001b[39;49m\u001b[38;5;124;43m\"\u001b[39;49m\u001b[43m]\u001b[49m\u001b[43m,\u001b[49m\n\u001b[1;32m   1180\u001b[0m \u001b[43m    \u001b[49m\u001b[38;5;28;43mself\u001b[39;49m\u001b[38;5;241;43m.\u001b[39;49m\u001b[43mget_parent\u001b[49m\u001b[43m(\u001b[49m\u001b[38;5;124;43m\"\u001b[39;49m\u001b[38;5;124;43mshell\u001b[39;49m\u001b[38;5;124;43m\"\u001b[39;49m\u001b[43m)\u001b[49m\u001b[43m,\u001b[49m\n\u001b[1;32m   1181\u001b[0m \u001b[43m    \u001b[49m\u001b[43mpassword\u001b[49m\u001b[38;5;241;43m=\u001b[39;49m\u001b[38;5;28;43;01mFalse\u001b[39;49;00m\u001b[43m,\u001b[49m\n\u001b[1;32m   1182\u001b[0m \u001b[43m\u001b[49m\u001b[43m)\u001b[49m\n",
      "File \u001b[0;32m/opt/conda/lib/python3.10/site-packages/ipykernel/kernelbase.py:1219\u001b[0m, in \u001b[0;36mKernel._input_request\u001b[0;34m(self, prompt, ident, parent, password)\u001b[0m\n\u001b[1;32m   1216\u001b[0m             \u001b[38;5;28;01mbreak\u001b[39;00m\n\u001b[1;32m   1217\u001b[0m \u001b[38;5;28;01mexcept\u001b[39;00m \u001b[38;5;167;01mKeyboardInterrupt\u001b[39;00m:\n\u001b[1;32m   1218\u001b[0m     \u001b[38;5;66;03m# re-raise KeyboardInterrupt, to truncate traceback\u001b[39;00m\n\u001b[0;32m-> 1219\u001b[0m     \u001b[38;5;28;01mraise\u001b[39;00m \u001b[38;5;167;01mKeyboardInterrupt\u001b[39;00m(\u001b[38;5;124m\"\u001b[39m\u001b[38;5;124mInterrupted by user\u001b[39m\u001b[38;5;124m\"\u001b[39m) \u001b[38;5;28;01mfrom\u001b[39;00m \u001b[38;5;28mNone\u001b[39m\n\u001b[1;32m   1220\u001b[0m \u001b[38;5;28;01mexcept\u001b[39;00m \u001b[38;5;167;01mException\u001b[39;00m:\n\u001b[1;32m   1221\u001b[0m     \u001b[38;5;28mself\u001b[39m\u001b[38;5;241m.\u001b[39mlog\u001b[38;5;241m.\u001b[39mwarning(\u001b[38;5;124m\"\u001b[39m\u001b[38;5;124mInvalid Message:\u001b[39m\u001b[38;5;124m\"\u001b[39m, exc_info\u001b[38;5;241m=\u001b[39m\u001b[38;5;28;01mTrue\u001b[39;00m)\n",
      "\u001b[0;31mKeyboardInterrupt\u001b[0m: Interrupted by user"
     ]
    }
   ],
   "source": [
    "a=50\n",
    "b=100\n",
    "t=0\n",
    "c=50\n",
    "s=\" \"\n",
    "while s != \"=\":\n",
    "    s=input(f\"Est-ce votre nombre est plus grand, plus petit ou égal à {c} ? [+/-/=]\")\n",
    "    if s == \"+\":\n",
    "        a=(a+b)/2\n",
    "        c=a\n",
    "    if s == \"-\":\n",
    "        b=b-(b+a)/2\n",
    "        c=b\n",
    "    t=t+1"
   ]
  },
  {
   "cell_type": "code",
   "execution_count": 95,
   "id": "78328584",
   "metadata": {},
   "outputs": [
    {
     "name": "stdout",
     "output_type": "stream",
     "text": [
      "girafe\n",
      "\n",
      "tigre\n",
      "\n",
      "singe\n",
      "\n",
      "souris\n",
      "\n"
     ]
    },
    {
     "data": {
      "text/plain": [
       "<function TextIOWrapper.close()>"
      ]
     },
     "execution_count": 95,
     "metadata": {},
     "output_type": "execute_result"
    }
   ],
   "source": [
    "filin= open(\"zoo.txt\")\n",
    "lignes=filin.readlines()\n",
    "for ligne in lignes:\n",
    "    print(ligne)\n",
    "filin.close"
   ]
  },
  {
   "cell_type": "code",
   "execution_count": 100,
   "id": "ca544fd1",
   "metadata": {},
   "outputs": [
    {
     "name": "stdout",
     "output_type": "stream",
     "text": [
      "girafe\n",
      "\n",
      "tigre\n",
      "\n",
      "singe\n",
      "\n",
      "souris\n",
      "\n"
     ]
    }
   ],
   "source": [
    "with open(\"zoo.txt\") as filin:\n",
    "    lignes=filin.readlines()\n",
    "    for ligne in lignes:\n",
    "        print(ligne)"
   ]
  },
  {
   "cell_type": "code",
   "execution_count": 101,
   "id": "0ae40caf",
   "metadata": {},
   "outputs": [],
   "source": [
    "animaux=[\"poisson\",\"abeille\",\"lion\",\"jungle\"]\n",
    "with open(\"zoo2.txt\",'w') as filout:\n",
    "    for animal in animaux:\n",
    "        filout.write(animal)"
   ]
  },
  {
   "cell_type": "code",
   "execution_count": 102,
   "id": "c5862a77",
   "metadata": {},
   "outputs": [],
   "source": [
    "animaux=[\"poisson\",\"abeille\",\"lion\",\"jungle\"]\n",
    "with open(\"zoo2.txt\",'w') as filout:\n",
    "    for animal in animaux:\n",
    "        filout.write(f\"{animal}\\n\")"
   ]
  },
  {
   "cell_type": "code",
   "execution_count": 103,
   "id": "ecc64f0c",
   "metadata": {},
   "outputs": [],
   "source": [
    "with open(\"zoo.txt\", \"r\") as fichier1, open(\"zoo2.txt\", \"w\") as fichier2:\n",
    "    for ligne in fichier1:\n",
    "        fichier2.write(\"* \" + ligne)"
   ]
  },
  {
   "cell_type": "code",
   "execution_count": 131,
   "id": "5316aea3",
   "metadata": {},
   "outputs": [
    {
     "name": "stdout",
     "output_type": "stream",
     "text": [
      "13.375\n"
     ]
    }
   ],
   "source": [
    "l=[]\n",
    "with open(\"notes.txt\",'r') as note:\n",
    "    lignes=note.readlines()\n",
    "    for ligne in lignes:\n",
    "        l.append(float(ligne))\n",
    "print(sum(l)/len(l))"
   ]
  },
  {
   "cell_type": "code",
   "execution_count": 128,
   "id": "d2305678",
   "metadata": {},
   "outputs": [],
   "source": [
    "with open(\"notes.txt\",'r') as fichier1, open(\"notes2.txt\",'w') as fichier2:\n",
    "    lignes=fichier1.readlines()\n",
    "    for ligne in lignes:\n",
    "        if float(ligne) < 10:\n",
    "            fichier2.write(f\" recalé {ligne}\\n\")\n",
    "        else:\n",
    "            fichier2.write(f\" admis {ligne}\\n\")"
   ]
  },
  {
   "cell_type": "code",
   "execution_count": null,
   "id": "e68537c0",
   "metadata": {},
   "outputs": [],
   "source": []
  },
  {
   "cell_type": "code",
   "execution_count": 133,
   "id": "023c1b54",
   "metadata": {},
   "outputs": [
    {
     "data": {
      "text/plain": [
       "6"
      ]
     },
     "execution_count": 133,
     "metadata": {},
     "output_type": "execute_result"
    }
   ],
   "source": [
    "import random\n",
    "random.randint(0, 10)"
   ]
  },
  {
   "cell_type": "code",
   "execution_count": 135,
   "id": "de700a44",
   "metadata": {},
   "outputs": [
    {
     "name": "stdout",
     "output_type": "stream",
     "text": [
      "6.123233995736766e-17\n",
      "1.0\n"
     ]
    }
   ],
   "source": [
    "import math\n",
    "print(math.cos(math.pi / 2))\n",
    "print(math.sin(math.pi / 2))"
   ]
  },
  {
   "cell_type": "code",
   "execution_count": 136,
   "id": "58ec5225",
   "metadata": {},
   "outputs": [
    {
     "data": {
      "text/plain": [
       "6"
      ]
     },
     "execution_count": 136,
     "metadata": {},
     "output_type": "execute_result"
    }
   ],
   "source": [
    "from random import randint\n",
    "randint(0,10)"
   ]
  },
  {
   "cell_type": "code",
   "execution_count": 138,
   "id": "429164a6",
   "metadata": {},
   "outputs": [
    {
     "name": "stdout",
     "output_type": "stream",
     "text": [
      "50\n",
      "2.2818540028184073\n"
     ]
    }
   ],
   "source": [
    "from random import *\n",
    "print(randint(0,50))\n",
    "print(uniform(0,2.5))"
   ]
  },
  {
   "cell_type": "code",
   "execution_count": 140,
   "id": "7ccca76a",
   "metadata": {},
   "outputs": [
    {
     "name": "stdout",
     "output_type": "stream",
     "text": [
      "6\n",
      "1.3671536443246322\n"
     ]
    }
   ],
   "source": [
    "import random as rand\n",
    "print(rand.randint(1, 10))\n",
    "print(rand.uniform(1, 3))"
   ]
  },
  {
   "cell_type": "code",
   "execution_count": 142,
   "id": "23ce9271",
   "metadata": {},
   "outputs": [
    {
     "name": "stdout",
     "output_type": "stream",
     "text": [
      "9\n"
     ]
    }
   ],
   "source": [
    "import random\n",
    "print(random.randint(0,10))"
   ]
  },
  {
   "cell_type": "code",
   "execution_count": 143,
   "id": "766dfe54",
   "metadata": {},
   "outputs": [
    {
     "ename": "NameError",
     "evalue": "name 'random' is not defined",
     "output_type": "error",
     "traceback": [
      "\u001b[0;31m---------------------------------------------------------------------------\u001b[0m",
      "\u001b[0;31mNameError\u001b[0m                                 Traceback (most recent call last)",
      "Cell \u001b[0;32mIn[143], line 2\u001b[0m\n\u001b[1;32m      1\u001b[0m \u001b[38;5;28;01mdel\u001b[39;00m random\n\u001b[0;32m----> 2\u001b[0m \u001b[38;5;28mprint\u001b[39m(\u001b[43mrandom\u001b[49m\u001b[38;5;241m.\u001b[39mrandint(\u001b[38;5;241m0\u001b[39m,\u001b[38;5;241m10\u001b[39m))\n",
      "\u001b[0;31mNameError\u001b[0m: name 'random' is not defined"
     ]
    }
   ],
   "source": [
    "del random\n",
    "print(random.randint(0,10))"
   ]
  },
  {
   "cell_type": "code",
   "execution_count": 146,
   "id": "4ea24d13",
   "metadata": {},
   "outputs": [
    {
     "name": "stdout",
     "output_type": "stream",
     "text": [
      "[2, 3, 4, 1]\n",
      "[1, 3, 2, 4]\n"
     ]
    }
   ],
   "source": [
    "import random\n",
    "x = [1, 2, 3, 4]\n",
    "random.shuffle(x)\n",
    "print(x)\n",
    "random.shuffle(x)\n",
    "print(x)"
   ]
  },
  {
   "cell_type": "code",
   "execution_count": 148,
   "id": "b9b3948a",
   "metadata": {},
   "outputs": [
    {
     "name": "stdout",
     "output_type": "stream",
     "text": [
      "G\n",
      "G\n",
      "['C', 'A', 'A', 'T', 'A']\n",
      "['T', 'G', 'A', 'T', 'C']\n",
      "['C', 'A', 'C', 'T', 'T', 'C', 'C', 'A', 'A', 'A']\n"
     ]
    }
   ],
   "source": [
    "bases = [\"A\", \"T\", \"C\", \"G\"]\n",
    "print(random.choice(bases))\n",
    "print(random.choice(bases))\n",
    "print(random.choices(bases, k=5))\n",
    "print(random.choices(bases, k=5))\n",
    "print(random.choices(bases, k=10))"
   ]
  },
  {
   "cell_type": "code",
   "execution_count": 154,
   "id": "a3f39654",
   "metadata": {},
   "outputs": [
    {
     "name": "stdout",
     "output_type": "stream",
     "text": [
      "10\n",
      "1\n",
      "0\n"
     ]
    }
   ],
   "source": [
    "random.seed(42)\n",
    "print(random.randint(0, 10))\n",
    "print(random.randint(0, 10))\n",
    "print(random.randint(0, 10))"
   ]
  },
  {
   "cell_type": "code",
   "execution_count": 161,
   "id": "8cd70b6d",
   "metadata": {},
   "outputs": [
    {
     "name": "stdout",
     "output_type": "stream",
     "text": [
      "10  3.162\n",
      "11  3.317\n",
      "12  3.464\n",
      "13  3.606\n",
      "14  3.742\n",
      "15  3.873\n",
      "16  4.000\n",
      "17  4.123\n",
      "18  4.243\n",
      "19  4.359\n"
     ]
    }
   ],
   "source": [
    "from math import *\n",
    "for i in range(10,20):\n",
    "    t=sqrt(i)\n",
    "    print(f\"{i}  {t:.3f}\")"
   ]
  },
  {
   "cell_type": "code",
   "execution_count": 162,
   "id": "2f688a2b",
   "metadata": {},
   "outputs": [
    {
     "name": "stdout",
     "output_type": "stream",
     "text": [
      "6.123233995736766e-17\n"
     ]
    }
   ],
   "source": [
    "print(math.cos(math.pi/2))"
   ]
  },
  {
   "cell_type": "code",
   "execution_count": 163,
   "id": "3a82bce1",
   "metadata": {},
   "outputs": [
    {
     "data": {
      "text/plain": [
       "'/home/jovyan/cours python stage'"
      ]
     },
     "execution_count": 163,
     "metadata": {},
     "output_type": "execute_result"
    }
   ],
   "source": [
    "import os\n",
    "os.getcwd()"
   ]
  },
  {
   "cell_type": "code",
   "execution_count": 164,
   "id": "936747f9",
   "metadata": {},
   "outputs": [
    {
     "data": {
      "text/plain": [
       "['Untitled.ipynb',\n",
       " '.ipynb_checkpoints',\n",
       " 'zoo2.txt',\n",
       " 'zoo.txt',\n",
       " 'notes.txt',\n",
       " 'notes2.txt',\n",
       " 'test.py']"
      ]
     },
     "execution_count": 164,
     "metadata": {},
     "output_type": "execute_result"
    }
   ],
   "source": [
    "os.listdir()"
   ]
  },
  {
   "cell_type": "code",
   "execution_count": 165,
   "id": "231636ae",
   "metadata": {},
   "outputs": [
    {
     "data": {
      "text/plain": [
       "3"
      ]
     },
     "execution_count": 165,
     "metadata": {},
     "output_type": "execute_result"
    }
   ],
   "source": [
    "len([0, 1, 2])"
   ]
  },
  {
   "cell_type": "code",
   "execution_count": 168,
   "id": "cb2ce3de",
   "metadata": {},
   "outputs": [],
   "source": [
    "ma_liste=[]\n",
    "ma_liste.append(5)"
   ]
  },
  {
   "cell_type": "code",
   "execution_count": 170,
   "id": "cbbd17cf",
   "metadata": {},
   "outputs": [
    {
     "name": "stdout",
     "output_type": "stream",
     "text": [
      "4\n"
     ]
    },
    {
     "data": {
      "text/plain": [
       "9"
      ]
     },
     "execution_count": 170,
     "metadata": {},
     "output_type": "execute_result"
    }
   ],
   "source": [
    "def carre(x):\n",
    "    return x**2\n",
    "print(carre(2))\n",
    "carre(3)"
   ]
  },
  {
   "cell_type": "code",
   "execution_count": 172,
   "id": "926db6a5",
   "metadata": {},
   "outputs": [
    {
     "name": "stdout",
     "output_type": "stream",
     "text": [
      "bonjour\n"
     ]
    }
   ],
   "source": [
    "def hello():\n",
    "    print(\"bonjour\")\n",
    "\n",
    "hello()"
   ]
  },
  {
   "cell_type": "code",
   "execution_count": 173,
   "id": "6df035b2",
   "metadata": {},
   "outputs": [
    {
     "name": "stdout",
     "output_type": "stream",
     "text": [
      "bonjour\n"
     ]
    }
   ],
   "source": [
    "var=hello()"
   ]
  },
  {
   "cell_type": "code",
   "execution_count": 174,
   "id": "40615b89",
   "metadata": {},
   "outputs": [
    {
     "name": "stdout",
     "output_type": "stream",
     "text": [
      "None\n"
     ]
    }
   ],
   "source": [
    "print(var)"
   ]
  },
  {
   "cell_type": "code",
   "execution_count": 175,
   "id": "cb236f9a",
   "metadata": {},
   "outputs": [
    {
     "data": {
      "text/plain": [
       "6"
      ]
     },
     "execution_count": 175,
     "metadata": {},
     "output_type": "execute_result"
    }
   ],
   "source": [
    "def fois(x,y):\n",
    "    return(x*y)\n",
    "fois(2,3)"
   ]
  },
  {
   "cell_type": "code",
   "execution_count": 177,
   "id": "4f42d342",
   "metadata": {},
   "outputs": [
    {
     "data": {
      "text/plain": [
       "16.430045000000003"
      ]
     },
     "execution_count": 177,
     "metadata": {},
     "output_type": "execute_result"
    }
   ],
   "source": [
    "fois(3.1415, 5.23)"
   ]
  },
  {
   "cell_type": "code",
   "execution_count": 178,
   "id": "f6ee0300",
   "metadata": {},
   "outputs": [
    {
     "data": {
      "text/plain": [
       "'toto'"
      ]
     },
     "execution_count": 178,
     "metadata": {},
     "output_type": "execute_result"
    }
   ],
   "source": [
    "fois(\"to\", 2)"
   ]
  },
  {
   "cell_type": "code",
   "execution_count": 179,
   "id": "d9df033a",
   "metadata": {},
   "outputs": [
    {
     "data": {
      "text/plain": [
       "[1, 3, 1, 3]"
      ]
     },
     "execution_count": 179,
     "metadata": {},
     "output_type": "execute_result"
    }
   ],
   "source": [
    "fois([1,3], 2)"
   ]
  },
  {
   "cell_type": "code",
   "execution_count": 180,
   "id": "e537dd4f",
   "metadata": {},
   "outputs": [
    {
     "data": {
      "text/plain": [
       "(4, 8)"
      ]
     },
     "execution_count": 180,
     "metadata": {},
     "output_type": "execute_result"
    }
   ],
   "source": [
    "def carre_cube(x):\n",
    "    return(x**2,x**3)\n",
    "carre_cube(2)"
   ]
  },
  {
   "cell_type": "code",
   "execution_count": 184,
   "id": "05d115a0",
   "metadata": {},
   "outputs": [
    {
     "name": "stdout",
     "output_type": "stream",
     "text": [
      "9\n",
      "27\n"
     ]
    }
   ],
   "source": [
    "def carre_cube2(x):\n",
    "    return([x**2,x**3])\n",
    "z1,z2=carre_cube2(3)\n",
    "print(z1)\n",
    "print(z2)"
   ]
  },
  {
   "cell_type": "code",
   "execution_count": 185,
   "id": "eef25579",
   "metadata": {},
   "outputs": [],
   "source": [
    "def calc_puissance(x,y):\n",
    "    return(x**y)\n"
   ]
  },
  {
   "cell_type": "code",
   "execution_count": 190,
   "id": "4dc3f559",
   "metadata": {},
   "outputs": [
    {
     "name": "stdout",
     "output_type": "stream",
     "text": [
      "2^ 0 = 1\n",
      "2^ 1 = 2\n",
      "2^ 2 = 4\n",
      "2^ 3 = 8\n",
      "2^ 4 = 16\n",
      "2^ 5 = 32\n",
      "2^ 6 = 64\n",
      "2^ 7 = 128\n",
      "2^ 8 = 256\n",
      "2^ 9 = 512\n",
      "2^ 10 = 1024\n",
      "2^ 11 = 2048\n",
      "2^ 12 = 4096\n",
      "2^ 13 = 8192\n",
      "2^ 14 = 16384\n",
      "2^ 15 = 32768\n",
      "2^ 16 = 65536\n",
      "2^ 17 = 131072\n",
      "2^ 18 = 262144\n",
      "2^ 19 = 524288\n",
      "2^ 20 = 1048576\n"
     ]
    }
   ],
   "source": [
    "x=2\n",
    "for i in range(0,21):\n",
    "    print(f\"{x}^ {i} = {calc_puissance(x,i)}\")"
   ]
  },
  {
   "cell_type": "code",
   "execution_count": 199,
   "id": "f3f190cf",
   "metadata": {},
   "outputs": [
    {
     "name": "stdout",
     "output_type": "stream",
     "text": [
      "Donne moi le nombre de ligne souhaités :20\n",
      "                    *\n",
      "                   ***\n",
      "                  *****\n",
      "                 *******\n",
      "                *********\n",
      "               ***********\n",
      "              *************\n",
      "             ***************\n",
      "            *****************\n",
      "           *******************\n",
      "          *********************\n",
      "         ***********************\n",
      "        *************************\n",
      "       ***************************\n",
      "      *****************************\n",
      "     *******************************\n",
      "    *********************************\n",
      "   ***********************************\n",
      "  *************************************\n",
      " ***************************************\n"
     ]
    }
   ],
   "source": [
    "def gen_pyramide(N=int(input(\"Donne moi le nombre de ligne souhaités :\"))):\n",
    "    for h,i in enumerate (range(1,N*2,2)):\n",
    "        print((N-h)*\" \"+ i*\"*\")\n",
    "\n",
    "gen_pyramide()"
   ]
  },
  {
   "cell_type": "code",
   "execution_count": 246,
   "id": "34a618c6",
   "metadata": {},
   "outputs": [],
   "source": [
    "def est_premier(N):\n",
    "    liste=list(range(2,N,1))\n",
    "    for k in range(len(liste)):\n",
    "        s=0\n",
    "        for j in range(1,N,1):\n",
    "            if liste[k]%j==0:\n",
    "                s=s+1\n",
    "        if s!=2:\n",
    "            print(f\"{liste[k]} n'est pas premier\")\n",
    "        if s==2:\n",
    "            print(f\"{liste[k]} est premier\")\n",
    "    return(None)"
   ]
  },
  {
   "cell_type": "code",
   "execution_count": 247,
   "id": "fb591307",
   "metadata": {},
   "outputs": [
    {
     "name": "stdout",
     "output_type": "stream",
     "text": [
      "2 est premier\n",
      "3 est premier\n",
      "4 n'est pas premier\n",
      "5 est premier\n",
      "6 n'est pas premier\n",
      "7 est premier\n",
      "8 n'est pas premier\n",
      "9 n'est pas premier\n",
      "10 n'est pas premier\n",
      "11 est premier\n",
      "12 n'est pas premier\n",
      "13 est premier\n",
      "14 n'est pas premier\n",
      "15 n'est pas premier\n",
      "16 n'est pas premier\n",
      "17 est premier\n",
      "18 n'est pas premier\n",
      "19 est premier\n",
      "20 n'est pas premier\n",
      "21 n'est pas premier\n",
      "22 n'est pas premier\n",
      "23 est premier\n",
      "24 n'est pas premier\n",
      "25 n'est pas premier\n",
      "26 n'est pas premier\n",
      "27 n'est pas premier\n",
      "28 n'est pas premier\n",
      "29 est premier\n",
      "30 n'est pas premier\n",
      "31 est premier\n",
      "32 n'est pas premier\n",
      "33 n'est pas premier\n",
      "34 n'est pas premier\n",
      "35 n'est pas premier\n",
      "36 n'est pas premier\n",
      "37 est premier\n",
      "38 n'est pas premier\n",
      "39 n'est pas premier\n",
      "40 n'est pas premier\n",
      "41 est premier\n",
      "42 n'est pas premier\n",
      "43 est premier\n",
      "44 n'est pas premier\n",
      "45 n'est pas premier\n",
      "46 n'est pas premier\n",
      "47 est premier\n",
      "48 n'est pas premier\n",
      "49 n'est pas premier\n",
      "50 n'est pas premier\n",
      "51 n'est pas premier\n",
      "52 n'est pas premier\n",
      "53 est premier\n",
      "54 n'est pas premier\n",
      "55 n'est pas premier\n",
      "56 n'est pas premier\n",
      "57 n'est pas premier\n",
      "58 n'est pas premier\n",
      "59 est premier\n",
      "60 n'est pas premier\n",
      "61 est premier\n",
      "62 n'est pas premier\n",
      "63 n'est pas premier\n",
      "64 n'est pas premier\n",
      "65 n'est pas premier\n",
      "66 n'est pas premier\n",
      "67 est premier\n",
      "68 n'est pas premier\n",
      "69 n'est pas premier\n",
      "70 n'est pas premier\n",
      "71 est premier\n",
      "72 n'est pas premier\n",
      "73 est premier\n",
      "74 n'est pas premier\n",
      "75 n'est pas premier\n",
      "76 n'est pas premier\n",
      "77 n'est pas premier\n",
      "78 n'est pas premier\n",
      "79 est premier\n",
      "80 n'est pas premier\n",
      "81 n'est pas premier\n",
      "82 n'est pas premier\n",
      "83 est premier\n",
      "84 n'est pas premier\n",
      "85 n'est pas premier\n",
      "86 n'est pas premier\n",
      "87 n'est pas premier\n",
      "88 n'est pas premier\n",
      "89 est premier\n",
      "90 n'est pas premier\n",
      "91 n'est pas premier\n",
      "92 n'est pas premier\n",
      "93 n'est pas premier\n",
      "94 n'est pas premier\n",
      "95 n'est pas premier\n",
      "96 n'est pas premier\n",
      "97 est premier\n",
      "98 n'est pas premier\n",
      "99 n'est pas premier\n",
      "None\n"
     ]
    }
   ],
   "source": [
    "print(est_premier(100))"
   ]
  },
  {
   "cell_type": "code",
   "execution_count": 248,
   "id": "1da7e013",
   "metadata": {},
   "outputs": [],
   "source": [
    "def seq_comp(seq=[]):\n",
    "    for i in range (len(seq)):\n",
    "        if seq[i]==\"A\":\n",
    "            seq[i]=\"*\"\n",
    "        if seq[i]==\"T\":\n",
    "            seq[i]=\"A\"\n",
    "        if seq[i]==\"*\":\n",
    "            seq[i]=\"T\"\n",
    "        if seq[i]==\"G\":\n",
    "            seq[i]=\"*\"\n",
    "        if seq[i]==\"C\":\n",
    "            seq[i]=\"G\"\n",
    "        if seq[i]==\"*\":\n",
    "            seq[i]=\"C\"\n",
    "    return(seq)"
   ]
  },
  {
   "cell_type": "code",
   "execution_count": 249,
   "id": "fadc1c06",
   "metadata": {},
   "outputs": [
    {
     "data": {
      "text/plain": [
       "['T', 'A', 'G', 'C', 'T', 'A', 'G', 'C', 'T', 'A', 'G']"
      ]
     },
     "execution_count": 249,
     "metadata": {},
     "output_type": "execute_result"
    }
   ],
   "source": [
    "seq_comp([\"A\", \"T\", \"C\", \"G\", \"A\", \"T\", \"C\", \"G\", \"A\", \"T\", \"C\"])"
   ]
  },
  {
   "cell_type": "code",
   "execution_count": 251,
   "id": "cfe1942d",
   "metadata": {},
   "outputs": [],
   "source": [
    "def calc_distance_3D(A=[],B=[]):\n",
    "    s=0\n",
    "    for i in range(len(A)):\n",
    "        s=s+(A[i]-B[i])**2\n",
    "    return sqrt(s)"
   ]
  },
  {
   "cell_type": "code",
   "execution_count": 252,
   "id": "5af739af",
   "metadata": {},
   "outputs": [
    {
     "data": {
      "text/plain": [
       "1.7320508075688772"
      ]
     },
     "execution_count": 252,
     "metadata": {},
     "output_type": "execute_result"
    }
   ],
   "source": [
    "calc_distance_3D([0,0,0],[1,1,1])"
   ]
  },
  {
   "cell_type": "code",
   "execution_count": 289,
   "id": "4136695f",
   "metadata": {},
   "outputs": [],
   "source": [
    "a,b,n=0,100,100\n",
    "def gen_distrib(a,b,n):\n",
    "    l=[]\n",
    "    for i in range(n):\n",
    "        l.append(random.uniform(a,b))\n",
    "    return(l)\n",
    "def calc_stat(a,b,n):\n",
    "    b=gen_distrib(a,b,n)\n",
    "    return (f\"le minimum est {min(b):.2f}, le maximum est {max(b):.2f}, la moyenne est {sum(b)/len(b):.2f}\")"
   ]
  },
  {
   "cell_type": "code",
   "execution_count": 300,
   "id": "fd2e2f96",
   "metadata": {},
   "outputs": [
    {
     "name": "stdout",
     "output_type": "stream",
     "text": [
      "liste 1 : le minimum est 2.16, le maximum est 98.63, la moyenne est 47.02\n",
      "liste 2 : le minimum est 2.07, le maximum est 99.75, la moyenne est 47.33\n",
      "liste 3 : le minimum est 3.79, le maximum est 97.85, la moyenne est 50.21\n",
      "liste 4 : le minimum est 0.14, le maximum est 99.60, la moyenne est 50.46\n",
      "liste 5 : le minimum est 0.49, le maximum est 96.70, la moyenne est 52.70\n",
      "liste 6 : le minimum est 0.27, le maximum est 99.83, la moyenne est 51.36\n",
      "liste 7 : le minimum est 0.62, le maximum est 97.27, la moyenne est 49.78\n",
      "liste 8 : le minimum est 0.49, le maximum est 98.70, la moyenne est 47.56\n",
      "liste 9 : le minimum est 0.90, le maximum est 99.68, la moyenne est 49.60\n",
      "liste 10 : le minimum est 1.20, le maximum est 98.64, la moyenne est 52.05\n",
      "liste 11 : le minimum est 0.75, le maximum est 98.93, la moyenne est 50.37\n",
      "liste 12 : le minimum est 1.64, le maximum est 95.09, la moyenne est 49.33\n",
      "liste 13 : le minimum est 0.24, le maximum est 97.98, la moyenne est 45.89\n",
      "liste 14 : le minimum est 0.97, le maximum est 99.13, la moyenne est 49.16\n",
      "liste 15 : le minimum est 0.26, le maximum est 94.54, la moyenne est 41.54\n",
      "liste 16 : le minimum est 1.59, le maximum est 99.68, la moyenne est 52.16\n",
      "liste 17 : le minimum est 5.65, le maximum est 99.16, la moyenne est 54.52\n",
      "liste 18 : le minimum est 0.16, le maximum est 99.76, la moyenne est 50.90\n",
      "liste 19 : le minimum est 1.59, le maximum est 97.53, la moyenne est 50.86\n",
      "liste 20 : le minimum est 0.09, le maximum est 99.66, la moyenne est 54.36\n"
     ]
    }
   ],
   "source": [
    "for i in range(1,21):\n",
    "    print(f\"liste {i} :\", calc_stat(a,b,n))"
   ]
  },
  {
   "cell_type": "code",
   "execution_count": 301,
   "id": "020f43e5",
   "metadata": {},
   "outputs": [
    {
     "name": "stdout",
     "output_type": "stream",
     "text": [
      "girafe 6\n",
      "tigre 5\n",
      "singe 5\n",
      "souris 6\n"
     ]
    }
   ],
   "source": [
    "l=['girafe', 'tigre', 'singe', 'souris']\n",
    "for i in range(len(l)):\n",
    "    print(l[i], len(l[i]))"
   ]
  },
  {
   "cell_type": "code",
   "execution_count": 85,
   "id": "05abfad8",
   "metadata": {},
   "outputs": [
    {
     "name": "stdout",
     "output_type": "stream",
     "text": [
      "UBI4_SCerevisiae.fasta\n",
      "La séquence est composée de 1162 bases\n",
      "La séquence n'est pas un multiple de 3\n",
      "La séquence a 387 codons\n",
      "10 première bases  : ATGCAGATTT\n",
      "10 dernières bases : TGGTAACTGA\n"
     ]
    }
   ],
   "source": [
    "b=\"UBI4_SCerevisiae.fasta\"\n",
    "with open(b, \"r\") as fasta_file:\n",
    "    t=0\n",
    "    l=[]\n",
    "    i=0\n",
    "    print(b)\n",
    "    for ligne in (fasta_file):\n",
    "        l.append(ligne)\n",
    "        s=len(ligne)\n",
    "        if i!=0:    \n",
    "            t+=s\n",
    "        i+=1\n",
    "    print(f\"La séquence est composée de {t} bases\")\n",
    "    if t%3==0:\n",
    "        print(\"La séquence est un multiple de 3\")\n",
    "    else:\n",
    "        print(\"La séquence n'est pas un multiple de 3\")\n",
    "    print(f\"La séquence a {t//3} codons\")\n",
    "    print(f\"10 première bases  : {l[1][:10]}\")\n",
    "    print(f\"10 dernières bases : {ligne[s-10:]}\")"
   ]
  },
  {
   "cell_type": "code",
   "execution_count": 108,
   "id": "0e5b83b6",
   "metadata": {},
   "outputs": [],
   "source": [
    "L=[\"ATATACGGATCGGCTGTTGCCTGCGTAGTAGCGT\"]\n",
    "def calc_composition(L=[]):    \n",
    "    A,T,C,G=0,0,0,0\n",
    "    for i in range(len(L[0])):\n",
    "        if L[0][i]==\"A\":\n",
    "            A+=1\n",
    "        if L[0][i]==\"T\":\n",
    "            T+=1\n",
    "        if L[0][i]==\"G\":\n",
    "            G+=1\n",
    "        if L[0][i]==\"C\":\n",
    "            C+=1\n",
    "    print(f\"La fréquence de nucléotides A est de {A/(A+C+G+T)}\")\n",
    "    print(f\"La fréquence de nucléotides T est de {T/(A+C+G+T)}\")\n",
    "    print(f\"La fréquence de nucléotides G est de {G/(A+C+G+T)}\")\n",
    "    print(f\"La fréquence de nucléotides C est de {C/(A+C+G+T)}\")"
   ]
  },
  {
   "cell_type": "code",
   "execution_count": 110,
   "id": "39319004",
   "metadata": {},
   "outputs": [
    {
     "name": "stdout",
     "output_type": "stream",
     "text": [
      "La fréquence de nucléotides A est de 0.17647058823529413\n",
      "La fréquence de nucléotides T est de 0.29411764705882354\n",
      "La fréquence de nucléotides G est de 0.3235294117647059\n",
      "La fréquence de nucléotides C est de 0.20588235294117646\n"
     ]
    }
   ],
   "source": [
    "calc_composition(L=[\"ATATACGGATCGGCTGTTGCCTGCGTAGTAGCGT\"])"
   ]
  },
  {
   "cell_type": "code",
   "execution_count": 122,
   "id": "0e0d9f72",
   "metadata": {},
   "outputs": [],
   "source": [
    "def convert_3_lettres_1_lettre(L=[]):\n",
    "    n=[]\n",
    "    for i in range(0,len(L[0]),4):\n",
    "        if L[0][i]+L[0][i+1]+L[0][i+2]==\"ALA\":\n",
    "            n.append(\"A\")\n",
    "        if L[0][i]+L[0][i+1]+L[0][i+2]==\"ARG\":\n",
    "            n.append(\"R\")\n",
    "        if L[0][i]+L[0][i+1]+L[0][i+2]==\"ASN\":\n",
    "            n.append(\"N\")\n",
    "        if L[0][i]+L[0][i+1]+L[0][i+2]==\"ASP\":\n",
    "            n.append(\"D\")\n",
    "        if L[0][i]+L[0][i+1]+L[0][i+2]==\"CYS\":\n",
    "            n.append(\"S\")\n",
    "        if L[0][i]+L[0][i+1]+L[0][i+2]==\"GLU\":\n",
    "            n.append(\"E\")\n",
    "        if L[0][i]+L[0][i+1]+L[0][i+2]==\"GLN\":\n",
    "            n.append(\"Q\")\n",
    "        if L[0][i]+L[0][i+1]+L[0][i+2]==\"GLY\":\n",
    "            n.append(\"G\")\n",
    "        if L[0][i]+L[0][i+1]+L[0][i+2]==\"HIS\":\n",
    "            n.append(\"H\")\n",
    "        if L[0][i]+L[0][i+1]+L[0][i+2]==\"ILE\":\n",
    "            n.append(\"I\")\n",
    "        if L[0][i]+L[0][i+1]+L[0][i+2]==\"LEU\":\n",
    "            n.append(\"L\")\n",
    "        if L[0][i]+L[0][i+1]+L[0][i+2]==\"LYS\":\n",
    "            n.append(\"K\")\n",
    "        if L[0][i]+L[0][i+1]+L[0][i+2]==\"MET\":\n",
    "            n.append(\"M\")\n",
    "        if L[0][i]+L[0][i+1]+L[0][i+2]==\"PHE\":\n",
    "            n.append(\"F\")\n",
    "        if L[0][i]+L[0][i+1]+L[0][i+2]==\"PRO\":\n",
    "            n.append(\"P\")\n",
    "        if L[0][i]+L[0][i+1]+L[0][i+2]==\"SER\":\n",
    "            n.append(\"S\")\n",
    "        if L[0][i]+L[0][i+1]+L[0][i+2]==\"THR\":\n",
    "            n.append(\"T\")\n",
    "        if L[0][i]+L[0][i+1]+L[0][i+2]==\"TRP\":\n",
    "            n.append(\"W\")\n",
    "        if L[0][i]+L[0][i+1]+L[0][i+2]==\"TYR\":\n",
    "            n.append(\"Y\")\n",
    "        if L[0][i]+L[0][i+1]+L[0][i+2]==\"VAL\":\n",
    "            n.append(\"V\")\n",
    "    print(n)"
   ]
  },
  {
   "cell_type": "code",
   "execution_count": 123,
   "id": "733f4aa9",
   "metadata": {},
   "outputs": [
    {
     "name": "stdout",
     "output_type": "stream",
     "text": [
      "['A', 'G', 'E', 'R', 'W', 'Y', 'S', 'G', 'A', 'W']\n"
     ]
    }
   ],
   "source": [
    "convert_3_lettres_1_lettre(L=[\"ALA GLY GLU ARG TRP TYR SER GLY ALA TRP\"])"
   ]
  },
  {
   "cell_type": "code",
   "execution_count": 87,
   "id": "67aec992",
   "metadata": {},
   "outputs": [],
   "source": [
    "def convert_3_lettres_1_lettre(L=[]):\n",
    "    n=[]\n",
    "    for i in range(len(L)):\n",
    "        if L[i]==\"ALA\":\n",
    "            n.append(\"A\")\n",
    "        if L[i]==\"ARG\":\n",
    "            n.append(\"R\")\n",
    "        if L[i]==\"ASN\":\n",
    "            n.append(\"N\")\n",
    "        if L[i]==\"ASP\":\n",
    "            n.append(\"D\")\n",
    "        if L[i]==\"CYS\":\n",
    "            n.append(\"S\")\n",
    "        if L[i]==\"GLU\":\n",
    "            n.append(\"E\")\n",
    "        if L[i]==\"GLN\":\n",
    "            n.append(\"Q\")\n",
    "        if L[i]==\"GLY\":\n",
    "            n.append(\"G\")\n",
    "        if L[i]==\"HIS\":\n",
    "            n.append(\"H\")\n",
    "        if L[i]==\"ILE\":\n",
    "            n.append(\"I\")\n",
    "        if L[i]==\"LEU\":\n",
    "            n.append(\"L\")\n",
    "        if L[i]==\"LYS\":\n",
    "            n.append(\"K\")\n",
    "        if L[i]==\"MET\":\n",
    "            n.append(\"M\")\n",
    "        if L[i]==\"PHE\":\n",
    "            n.append(\"F\")\n",
    "        if L[i]==\"PRO\":\n",
    "            n.append(\"P\")\n",
    "        if L[i]==\"SER\":\n",
    "            n.append(\"S\")\n",
    "        if L[i]==\"THR\":\n",
    "            n.append(\"T\")\n",
    "        if L[i]==\"TRP\":\n",
    "            n.append(\"W\")\n",
    "        if L[i]==\"TYR\":\n",
    "            n.append(\"Y\")\n",
    "        if L[i]==\"VAL\":\n",
    "            n.append(\"V\")\n",
    "    print(n)"
   ]
  },
  {
   "cell_type": "code",
   "execution_count": 88,
   "id": "9fe8d5d0",
   "metadata": {},
   "outputs": [
    {
     "name": "stdout",
     "output_type": "stream",
     "text": [
      "['A', 'G', 'E', 'R', 'W', 'Y', 'S', 'G', 'A', 'W']\n"
     ]
    }
   ],
   "source": [
    "convert_3_lettres_1_lettre(L=[\"ALA\", \"GLY\", \"GLU\" ,\"ARG\", \"TRP\", \"TYR\", \"SER\", \"GLY\", \"ALA\" ,\"TRP\"])"
   ]
  },
  {
   "cell_type": "code",
   "execution_count": 99,
   "id": "ac4447bf",
   "metadata": {},
   "outputs": [],
   "source": [
    "def dist_hamming(l=[],n=[]):\n",
    "    s=0\n",
    "    for i in range(len(l[0])):\n",
    "        if l[0][i]!=n[0][i]:\n",
    "            s+=1\n",
    "    print(s)"
   ]
  },
  {
   "cell_type": "code",
   "execution_count": 100,
   "id": "49bcb814",
   "metadata": {},
   "outputs": [
    {
     "name": "stdout",
     "output_type": "stream",
     "text": [
      "3\n"
     ]
    }
   ],
   "source": [
    "dist_hamming(l=[\"AGWPSGGASAGLAIL\"],n=[\"IGWPSAGASAGLWIL\"])"
   ]
  },
  {
   "cell_type": "code",
   "execution_count": 124,
   "id": "bdb80b39",
   "metadata": {},
   "outputs": [
    {
     "name": "stdout",
     "output_type": "stream",
     "text": [
      "4\n"
     ]
    }
   ],
   "source": [
    "dist_hamming(l=[\"ATTCATACGTTACGATT\"],n=[\"ATACTTACGTAACCATT\"])"
   ]
  },
  {
   "cell_type": "code",
   "execution_count": 163,
   "id": "1b967889",
   "metadata": {},
   "outputs": [],
   "source": [
    "def test_palindrome(L=\"\"):\n",
    "    n=[]\n",
    "    t=[]\n",
    "    s=0\n",
    "    m=list(range(len(L)-1,-1,-1))\n",
    "    for i in (m):\n",
    "        if L[i]!=\" \" :\n",
    "            n.append(L[i])\n",
    "    for i in range(len(L)):\n",
    "        if L[i]!=\" \" :\n",
    "            t.append(L[i])\n",
    "    for i in range(len(n)):\n",
    "        if n[i]==t[i]:\n",
    "            s+=1\n",
    "    if s==len(n) and s==len(t):\n",
    "        print(f\"{L} est palindromique\")\n",
    "    else:\n",
    "        print(f\"{L} n'est pas palindromique\")"
   ]
  },
  {
   "cell_type": "code",
   "execution_count": 166,
   "id": "4322f7e5",
   "metadata": {},
   "outputs": [
    {
     "name": "stdout",
     "output_type": "stream",
     "text": [
      "radar est palindromique\n"
     ]
    }
   ],
   "source": [
    "test_palindrome(\"radar\")"
   ]
  },
  {
   "cell_type": "code",
   "execution_count": 167,
   "id": "70f05e43",
   "metadata": {},
   "outputs": [
    {
     "name": "stdout",
     "output_type": "stream",
     "text": [
      "never odd or even est palindromique\n"
     ]
    }
   ],
   "source": [
    "test_palindrome(\"never odd or even\")"
   ]
  },
  {
   "cell_type": "code",
   "execution_count": 168,
   "id": "3fc86d31",
   "metadata": {},
   "outputs": [
    {
     "name": "stdout",
     "output_type": "stream",
     "text": [
      "karine alla en Iran n'est pas palindromique\n"
     ]
    }
   ],
   "source": [
    "test_palindrome(\"karine alla en Iran\")"
   ]
  },
  {
   "cell_type": "code",
   "execution_count": 169,
   "id": "b0b4c336",
   "metadata": {},
   "outputs": [
    {
     "name": "stdout",
     "output_type": "stream",
     "text": [
      "un roc si biscornu est palindromique\n"
     ]
    }
   ],
   "source": [
    "test_palindrome(\"un roc si biscornu\")"
   ]
  },
  {
   "cell_type": "code",
   "execution_count": 171,
   "id": "f7a1f035",
   "metadata": {},
   "outputs": [],
   "source": [
    "def test_composable(L=\" \",T=\" \"):\n",
    "    n=0\n",
    "    for i in range(len(L)):\n",
    "        for j in range(len(T)):\n",
    "            if L[i]==T[j]:\n",
    "                n+=1\n",
    "    if n>=len(L):\n",
    "        print(f\"Le mot {L} est composable à partir de {T}\")\n",
    "    else:\n",
    "        print(f\"Le mot {L} n'est pas composable à partir de {T}\")"
   ]
  },
  {
   "cell_type": "code",
   "execution_count": 175,
   "id": "2850c9c2",
   "metadata": {},
   "outputs": [
    {
     "name": "stdout",
     "output_type": "stream",
     "text": [
      "Le mot python est composable à partir de aophrtkny\n",
      "Le mot python n'est pas composable à partir de aeiouyhpq\n",
      "Le mot coucou est composable à partir de uocuoceokzezh\n",
      "Le mot fonction est composable à partir de nhwfnitvkloco\n"
     ]
    }
   ],
   "source": [
    "test_composable(\"python\",\"aophrtkny\")\n",
    "test_composable(\"python\",\"aeiouyhpq\")\n",
    "test_composable(\"coucou\",\"uocuoceokzezh\")\n",
    "test_composable(\"fonction\",\"nhwfnitvkloco\")"
   ]
  },
  {
   "cell_type": "code",
   "execution_count": 211,
   "id": "acb08d0e",
   "metadata": {},
   "outputs": [
    {
     "data": {
      "text/plain": [
       "'abcdefghijklmnopqrstuvwxyz'"
      ]
     },
     "execution_count": 211,
     "metadata": {},
     "output_type": "execute_result"
    }
   ],
   "source": [
    "def get_alphabet():\n",
    "    L=\"\"\n",
    "    for i in range(97,123):\n",
    "        L+=chr(i)\n",
    "    return(L)\n",
    "\n",
    "get_alphabet()"
   ]
  },
  {
   "cell_type": "code",
   "execution_count": 243,
   "id": "c74f5c9f",
   "metadata": {},
   "outputs": [],
   "source": [
    "def pangramme(M=\"\"):\n",
    "    L=get_alphabet()\n",
    "    P=M.lower()\n",
    "    P=[P]\n",
    "    n=0\n",
    "    for i in range(len(P[0])):\n",
    "        for j in range(len(L)):\n",
    "            if P[0][i]!=\" \":\n",
    "                if P[0][i]==L[j] :\n",
    "                    n+=1\n",
    "    if n>=26:\n",
    "        print(f\"{P} est un pangramme\")\n",
    "    else:\n",
    "        print(f\"{P} n'est pas un pangramme\")"
   ]
  },
  {
   "cell_type": "code",
   "execution_count": 245,
   "id": "853639cc",
   "metadata": {},
   "outputs": [
    {
     "name": "stdout",
     "output_type": "stream",
     "text": [
      "['portez ce vieux whisky au juge blond qui fume'] est un pangramme\n",
      "['monsieur jack vous dactylographiez bien mieux que votre ami wolf'] est un pangramme\n",
      "['buvez de ce whisky que le patron juge fameux'] est un pangramme\n"
     ]
    }
   ],
   "source": [
    "pangramme(\"Portez ce vieux whisky au juge blond qui fume\")\n",
    "pangramme(\"Monsieur Jack vous dactylographiez bien mieux que votre ami Wolf\")\n",
    "pangramme(\"Buvez de ce whisky que le patron juge fameux\")"
   ]
  },
  {
   "cell_type": "code",
   "execution_count": 35,
   "id": "9963ccda",
   "metadata": {},
   "outputs": [
    {
     "ename": "IndexError",
     "evalue": "list index out of range",
     "output_type": "error",
     "traceback": [
      "\u001b[0;31m---------------------------------------------------------------------------\u001b[0m",
      "\u001b[0;31mIndexError\u001b[0m                                Traceback (most recent call last)",
      "Cell \u001b[0;32mIn[35], line 6\u001b[0m\n\u001b[1;32m      4\u001b[0m \u001b[38;5;28;01mfor\u001b[39;00m i \u001b[38;5;129;01min\u001b[39;00m \u001b[38;5;28mrange\u001b[39m(m\u001b[38;5;241m-\u001b[39m\u001b[38;5;241m1\u001b[39m):\n\u001b[1;32m      5\u001b[0m     r\u001b[38;5;241m=\u001b[39mL[\u001b[38;5;241m0\u001b[39m]\n\u001b[0;32m----> 6\u001b[0m     s\u001b[38;5;241m=\u001b[39m\u001b[38;5;28mmin\u001b[39m(\u001b[43mL\u001b[49m\u001b[43m[\u001b[49m\u001b[43mi\u001b[49m\u001b[43m]\u001b[49m,L[i\u001b[38;5;241m+\u001b[39m\u001b[38;5;241m1\u001b[39m])\n\u001b[1;32m      7\u001b[0m     \u001b[38;5;28;01mif\u001b[39;00m r\u001b[38;5;241m>\u001b[39ms:\n\u001b[1;32m      8\u001b[0m         r\u001b[38;5;241m=\u001b[39ms\n",
      "\u001b[0;31mIndexError\u001b[0m: list index out of range"
     ]
    }
   ],
   "source": [
    "L=[8, 3, 12.5, 45, 25.5, 52, 1]\n",
    "t=[]\n",
    "m=len(L)\n",
    "for i in range(m-1):\n",
    "    r=L[0]\n",
    "    s=min(L[i],L[i+1])\n",
    "    if r>s:\n",
    "        r=s\n",
    "        t.append(r)\n",
    "        L.remove(r)\n",
    "print(t)"
   ]
  },
  {
   "cell_type": "code",
   "execution_count": 283,
   "id": "48e56ae9",
   "metadata": {},
   "outputs": [],
   "source": [
    "import random\n",
    "def seq_alea(n=2):\n",
    "    L=[]\n",
    "    for i in range(n):\n",
    "        p=random.choice([\"A\",\"T\",\"C\",\"G\"])\n",
    "        L.append(p)\n",
    "    print(L)"
   ]
  },
  {
   "cell_type": "code",
   "execution_count": 284,
   "id": "fdcd575b",
   "metadata": {},
   "outputs": [
    {
     "name": "stdout",
     "output_type": "stream",
     "text": [
      "['A', 'A', 'T', 'A', 'G', 'A', 'C', 'T', 'G', 'C', 'C', 'T', 'T', 'T', 'C']\n"
     ]
    }
   ],
   "source": [
    "seq_alea(15)"
   ]
  },
  {
   "cell_type": "code",
   "execution_count": 338,
   "id": "4baa9561",
   "metadata": {},
   "outputs": [],
   "source": [
    "def comp_inv(l=\"\"):\n",
    "    l=[l]\n",
    "    s=\"\"\n",
    "    for i in range (len(l[0])):\n",
    "        if l[0][i]==\"A\":\n",
    "            s+=\"C\"\n",
    "        if l[0][i]==\"T\":\n",
    "            s+=\"G\"\n",
    "        if l[0][i]==\"G\":\n",
    "            s+=\"T\"\n",
    "        if l[0][i]==\"C\":\n",
    "            s+=\"A\"\n",
    "    print(s)"
   ]
  },
  {
   "cell_type": "code",
   "execution_count": 340,
   "id": "6d4bc306",
   "metadata": {},
   "outputs": [
    {
     "name": "stdout",
     "output_type": "stream",
     "text": [
      "CGAT\n",
      "GAGTGGCCAACGAACAGGAT\n"
     ]
    }
   ],
   "source": [
    "comp_inv(l=\"ATCG\")\n",
    "comp_inv(l=\"TCTGTTAACCATCCACTTCG\")"
   ]
  },
  {
   "cell_type": "code",
   "execution_count": 106,
   "id": "d6319d1e",
   "metadata": {},
   "outputs": [
    {
     "name": "stdout",
     "output_type": "stream",
     "text": [
      "[5, 1, 2, 6, 3, 4]\n"
     ]
    }
   ],
   "source": [
    "liste = [5, 1, 1, 2, 5, 6, 3, 4, 4, 4, 2]\n",
    "l=[]\n",
    "for i in range(len(liste)):\n",
    "    if liste[i] not in l:\n",
    "        l.append(liste[i])\n",
    "print(l)"
   ]
  },
  {
   "cell_type": "code",
   "execution_count": 71,
   "id": "9b40996c",
   "metadata": {},
   "outputs": [],
   "source": [
    "def seq_alea_2(n=int(),A=\"A\",T=\"T\",G=\"G\",C=\"C\"):\n",
    "    L=[]\n",
    "    for i in range (int(n*0.1)):\n",
    "        L.append(A)\n",
    "    for i in range (int(n*0.3)):\n",
    "        L.append(T)\n",
    "    for i in range (int(n*0.5)):\n",
    "        L.append(G)   \n",
    "    for i in range(int(n*0.1)):\n",
    "        L.append(C)\n",
    "    random.shuffle(L)\n",
    "    print(L)"
   ]
  },
  {
   "cell_type": "code",
   "execution_count": 72,
   "id": "12b2e6bf",
   "metadata": {},
   "outputs": [
    {
     "name": "stdout",
     "output_type": "stream",
     "text": [
      "['G', 'G', 'G', 'G', 'G', 'A', 'T', 'T', 'A', 'T', 'G', 'G', 'T', 'T', 'G', 'T', 'G', 'G', 'T', 'T', 'G', 'T', 'G', 'G', 'G', 'G', 'T', 'G', 'A', 'G', 'G', 'G', 'G', 'G', 'G', 'T', 'C', 'G', 'G', 'T', 'T', 'A', 'G', 'T', 'A', 'C', 'C', 'C', 'C', 'T']\n"
     ]
    }
   ],
   "source": [
    "seq_alea_2(50)"
   ]
  },
  {
   "cell_type": "code",
   "execution_count": 27,
   "id": "8168f323",
   "metadata": {},
   "outputs": [
    {
     "name": "stdout",
     "output_type": "stream",
     "text": [
      "232\n"
     ]
    }
   ],
   "source": [
    "l=[]\n",
    "for i in range(100,300,2):\n",
    "    l.append(str(i))\n",
    "for j in range(len(l)):\n",
    "    if int(l[j][0])+int(l[j][1])+int(l[j][2])==7 and (l[j][0]==l[j][1] or l[j][0]==l[j][2] or l[j][1]==l[j][2]):\n",
    "        print(l[j])"
   ]
  },
  {
   "cell_type": "code",
   "execution_count": 107,
   "id": "5e2ebadf",
   "metadata": {},
   "outputs": [
    {
     "name": "stdout",
     "output_type": "stream",
     "text": [
      "[36, 25, 16, 9, 4, 1, 0, 1, 4, 9, 16]\n"
     ]
    }
   ],
   "source": [
    "# définition des fonctions\n",
    "def polynome(x):\n",
    "    return (x**2 - 2*x + 1)\n",
    "\n",
    "def calc_vals(debut, fin):\n",
    "    liste_vals = []\n",
    "    for x in range(debut, fin + 1):\n",
    "        liste_vals.append(polynome(x))\n",
    "    return liste_vals\n",
    "\n",
    "# programme principal\n",
    "print(calc_vals(-5, 5))"
   ]
  },
  {
   "cell_type": "code",
   "execution_count": 111,
   "id": "f3468342",
   "metadata": {},
   "outputs": [
    {
     "name": "stdout",
     "output_type": "stream",
     "text": [
      "120\n"
     ]
    }
   ],
   "source": [
    "def calc_factorielle(nb):\n",
    "    if nb == 1:\n",
    "        return 1\n",
    "    else:\n",
    "        return nb * calc_factorielle(nb - 1)\n",
    "\n",
    "# prog principal\n",
    "print(calc_factorielle(5))"
   ]
  },
  {
   "cell_type": "code",
   "execution_count": 121,
   "id": "b2a8e297",
   "metadata": {},
   "outputs": [
    {
     "name": "stdout",
     "output_type": "stream",
     "text": [
      "Dans la fonction x vaut 4\n",
      "Dans le module principal x vaut -15\n"
     ]
    }
   ],
   "source": [
    "def ma_fonction():\n",
    "    x = 4\n",
    "    print(f\"Dans la fonction x vaut {x}\")\n",
    "    \n",
    "\n",
    "x = -15\n",
    "ma_fonction()\n",
    "\n",
    "print(f\"Dans le module principal x vaut {x}\")"
   ]
  },
  {
   "cell_type": "code",
   "execution_count": 122,
   "id": "525ced15",
   "metadata": {},
   "outputs": [],
   "source": [
    "import numpy as np"
   ]
  },
  {
   "cell_type": "code",
   "execution_count": 127,
   "id": "3c3ce97e",
   "metadata": {},
   "outputs": [
    {
     "name": "stdout",
     "output_type": "stream",
     "text": [
      "[1 2 3]\n"
     ]
    }
   ],
   "source": [
    "a=np.array([1,2,3])\n",
    "print(a)"
   ]
  },
  {
   "cell_type": "code",
   "execution_count": 128,
   "id": "93ad3d2a",
   "metadata": {},
   "outputs": [
    {
     "name": "stdout",
     "output_type": "stream",
     "text": [
      "[  0   1   2   3   4   5   6   7   8   9  10  11  12  13  14  15  16  17\n",
      "  18  19  20  21  22  23  24  25  26  27  28  29  30  31  32  33  34  35\n",
      "  36  37  38  39  40  41  42  43  44  45  46  47  48  49  50  51  52  53\n",
      "  54  55  56  57  58  59  60  61  62  63  64  65  66  67  68  69  70  71\n",
      "  72  73  74  75  76  77  78  79  80  81  82  83  84  85  86  87  88  89\n",
      "  90  91  92  93  94  95  96  97  98  99 100 101 102 103 104 105 106 107\n",
      " 108 109 110 111 112 113 114 115 116 117 118 119 120 121 122 123 124 125\n",
      " 126 127 128 129 130 131 132 133 134 135 136 137 138 139 140 141 142 143\n",
      " 144 145 146 147 148 149 150 151 152 153 154 155 156 157 158 159 160 161\n",
      " 162 163 164 165 166 167 168 169 170 171 172 173 174 175 176 177 178 179\n",
      " 180 181 182 183 184 185 186 187 188 189 190 191 192 193 194 195 196 197\n",
      " 198 199 200 201 202 203 204 205 206 207 208 209 210 211 212 213 214 215\n",
      " 216 217 218 219 220 221 222 223 224 225 226 227 228 229 230 231 232 233\n",
      " 234 235 236 237 238 239 240 241 242 243 244 245 246 247 248 249 250 251\n",
      " 252 253 254 255 256 257 258 259 260 261 262 263 264 265 266 267 268 269\n",
      " 270 271 272 273 274 275 276 277 278 279 280 281 282 283 284 285 286 287\n",
      " 288 289 290 291 292 293 294 295 296 297 298 299]\n"
     ]
    }
   ],
   "source": [
    "b=np.arange(300)\n",
    "print(b)"
   ]
  },
  {
   "cell_type": "code",
   "execution_count": 131,
   "id": "dc37e456",
   "metadata": {},
   "outputs": [],
   "source": [
    "v = np.arange(4)"
   ]
  },
  {
   "cell_type": "code",
   "execution_count": 134,
   "id": "27d5b5e3",
   "metadata": {},
   "outputs": [
    {
     "data": {
      "text/plain": [
       "array([0. , 2.5, 5. , 7.5])"
      ]
     },
     "execution_count": 134,
     "metadata": {},
     "output_type": "execute_result"
    }
   ],
   "source": [
    "v*5.\n",
    "v*2.5"
   ]
  },
  {
   "cell_type": "code",
   "execution_count": 165,
   "id": "8780a24b",
   "metadata": {},
   "outputs": [
    {
     "data": {
      "text/html": [
       "<div>\n",
       "<style scoped>\n",
       "    .dataframe tbody tr th:only-of-type {\n",
       "        vertical-align: middle;\n",
       "    }\n",
       "\n",
       "    .dataframe tbody tr th {\n",
       "        vertical-align: top;\n",
       "    }\n",
       "\n",
       "    .dataframe thead th {\n",
       "        text-align: right;\n",
       "    }\n",
       "</style>\n",
       "<table border=\"1\" class=\"dataframe\">\n",
       "  <thead>\n",
       "    <tr style=\"text-align: right;\">\n",
       "      <th></th>\n",
       "      <th>name</th>\n",
       "      <th>sex</th>\n",
       "      <th>size</th>\n",
       "      <th>age</th>\n",
       "    </tr>\n",
       "  </thead>\n",
       "  <tbody>\n",
       "    <tr>\n",
       "      <th>0</th>\n",
       "      <td>NaN</td>\n",
       "      <td>NaN</td>\n",
       "      <td>NaN</td>\n",
       "      <td>NaN</td>\n",
       "    </tr>\n",
       "    <tr>\n",
       "      <th>1</th>\n",
       "      <td>NaN</td>\n",
       "      <td>NaN</td>\n",
       "      <td>NaN</td>\n",
       "      <td>NaN</td>\n",
       "    </tr>\n",
       "    <tr>\n",
       "      <th>2</th>\n",
       "      <td>NaN</td>\n",
       "      <td>NaN</td>\n",
       "      <td>NaN</td>\n",
       "      <td>NaN</td>\n",
       "    </tr>\n",
       "    <tr>\n",
       "      <th>3</th>\n",
       "      <td>NaN</td>\n",
       "      <td>NaN</td>\n",
       "      <td>NaN</td>\n",
       "      <td>NaN</td>\n",
       "    </tr>\n",
       "    <tr>\n",
       "      <th>4</th>\n",
       "      <td>NaN</td>\n",
       "      <td>NaN</td>\n",
       "      <td>NaN</td>\n",
       "      <td>NaN</td>\n",
       "    </tr>\n",
       "    <tr>\n",
       "      <th>5</th>\n",
       "      <td>NaN</td>\n",
       "      <td>NaN</td>\n",
       "      <td>NaN</td>\n",
       "      <td>NaN</td>\n",
       "    </tr>\n",
       "    <tr>\n",
       "      <th>6</th>\n",
       "      <td>NaN</td>\n",
       "      <td>NaN</td>\n",
       "      <td>NaN</td>\n",
       "      <td>NaN</td>\n",
       "    </tr>\n",
       "    <tr>\n",
       "      <th>7</th>\n",
       "      <td>NaN</td>\n",
       "      <td>NaN</td>\n",
       "      <td>NaN</td>\n",
       "      <td>NaN</td>\n",
       "    </tr>\n",
       "    <tr>\n",
       "      <th>8</th>\n",
       "      <td>NaN</td>\n",
       "      <td>NaN</td>\n",
       "      <td>NaN</td>\n",
       "      <td>NaN</td>\n",
       "    </tr>\n",
       "    <tr>\n",
       "      <th>9</th>\n",
       "      <td>NaN</td>\n",
       "      <td>NaN</td>\n",
       "      <td>NaN</td>\n",
       "      <td>NaN</td>\n",
       "    </tr>\n",
       "    <tr>\n",
       "      <th>10</th>\n",
       "      <td>NaN</td>\n",
       "      <td>NaN</td>\n",
       "      <td>NaN</td>\n",
       "      <td>NaN</td>\n",
       "    </tr>\n",
       "    <tr>\n",
       "      <th>11</th>\n",
       "      <td>NaN</td>\n",
       "      <td>NaN</td>\n",
       "      <td>NaN</td>\n",
       "      <td>NaN</td>\n",
       "    </tr>\n",
       "  </tbody>\n",
       "</table>\n",
       "</div>"
      ],
      "text/plain": [
       "    name  sex  size  age\n",
       "0    NaN  NaN   NaN  NaN\n",
       "1    NaN  NaN   NaN  NaN\n",
       "2    NaN  NaN   NaN  NaN\n",
       "3    NaN  NaN   NaN  NaN\n",
       "4    NaN  NaN   NaN  NaN\n",
       "5    NaN  NaN   NaN  NaN\n",
       "6    NaN  NaN   NaN  NaN\n",
       "7    NaN  NaN   NaN  NaN\n",
       "8    NaN  NaN   NaN  NaN\n",
       "9    NaN  NaN   NaN  NaN\n",
       "10   NaN  NaN   NaN  NaN\n",
       "11   NaN  NaN   NaN  NaN"
      ]
     },
     "execution_count": 165,
     "metadata": {},
     "output_type": "execute_result"
    }
   ],
   "source": [
    "import pandas as pd\n",
    "import numpy as np\n",
    "df=pd.read_csv(\"people.tsv\")\n",
    "df=pd.DataFrame(columns=[\"name\",\"sex\",\"size\",\"age\"],data=df)\n",
    "df"
   ]
  },
  {
   "cell_type": "code",
   "execution_count": 163,
   "id": "a547ddb3",
   "metadata": {},
   "outputs": [
    {
     "data": {
      "text/plain": [
       "Index(['name', 'sex', 'size', 'age'], dtype='object')"
      ]
     },
     "execution_count": 163,
     "metadata": {},
     "output_type": "execute_result"
    }
   ],
   "source": [
    "df.columns[:]"
   ]
  },
  {
   "cell_type": "code",
   "execution_count": 168,
   "id": "6409c4d3",
   "metadata": {},
   "outputs": [
    {
     "name": "stdout",
     "output_type": "stream",
     "text": [
      "Successfully made csv file\n"
     ]
    }
   ],
   "source": [
    "# Python program to convert .tsv file to .csv file\n",
    "# importing re library\n",
    "import re\n",
    "\n",
    "# reading given tsv file\n",
    "with open(\"people.tsv\", 'r') as myfile:\n",
    "    with open(\"people.csv\", 'w') as csv_file:\n",
    "        for line in myfile:\n",
    "\t\n",
    "        # Replace every tab with comma\n",
    "            fileContent = re.sub(\"\\t\", \",\", line)\n",
    "\t\n",
    "        # Writing into csv file\n",
    "            csv_file.write(fileContent)\n",
    "\n",
    "# output\n",
    "print(\"Successfully made csv file\")\n"
   ]
  },
  {
   "cell_type": "code",
   "execution_count": 2,
   "id": "16ec3ec9",
   "metadata": {},
   "outputs": [
    {
     "name": "stdout",
     "output_type": "stream",
     "text": [
      "        name     sex  size  age\n",
      "0      simon    male   175   33\n",
      "1      clara  female   167   45\n",
      "2      serge    male   181   44\n",
      "3     claire  female   174   31\n",
      "4    patrick    male   172   52\n",
      "5      julie  female   168   37\n",
      "6       paul    male   185   29\n",
      "7     jeanne  female   172   56\n",
      "8   baptiste    male   178   39\n",
      "9   mathilde  female   168   46\n",
      "10       bob    male   186   33\n",
      "11     elise  female   159   63\n"
     ]
    },
    {
     "data": {
      "text/html": [
       "<div>\n",
       "<style scoped>\n",
       "    .dataframe tbody tr th:only-of-type {\n",
       "        vertical-align: middle;\n",
       "    }\n",
       "\n",
       "    .dataframe tbody tr th {\n",
       "        vertical-align: top;\n",
       "    }\n",
       "\n",
       "    .dataframe thead th {\n",
       "        text-align: right;\n",
       "    }\n",
       "</style>\n",
       "<table border=\"1\" class=\"dataframe\">\n",
       "  <thead>\n",
       "    <tr style=\"text-align: right;\">\n",
       "      <th></th>\n",
       "      <th>name</th>\n",
       "      <th>sex</th>\n",
       "      <th>size</th>\n",
       "      <th>age</th>\n",
       "    </tr>\n",
       "  </thead>\n",
       "  <tbody>\n",
       "    <tr>\n",
       "      <th>0</th>\n",
       "      <td>simon</td>\n",
       "      <td>male</td>\n",
       "      <td>175</td>\n",
       "      <td>33</td>\n",
       "    </tr>\n",
       "    <tr>\n",
       "      <th>1</th>\n",
       "      <td>clara</td>\n",
       "      <td>female</td>\n",
       "      <td>167</td>\n",
       "      <td>45</td>\n",
       "    </tr>\n",
       "    <tr>\n",
       "      <th>2</th>\n",
       "      <td>serge</td>\n",
       "      <td>male</td>\n",
       "      <td>181</td>\n",
       "      <td>44</td>\n",
       "    </tr>\n",
       "    <tr>\n",
       "      <th>3</th>\n",
       "      <td>claire</td>\n",
       "      <td>female</td>\n",
       "      <td>174</td>\n",
       "      <td>31</td>\n",
       "    </tr>\n",
       "    <tr>\n",
       "      <th>4</th>\n",
       "      <td>patrick</td>\n",
       "      <td>male</td>\n",
       "      <td>172</td>\n",
       "      <td>52</td>\n",
       "    </tr>\n",
       "    <tr>\n",
       "      <th>5</th>\n",
       "      <td>julie</td>\n",
       "      <td>female</td>\n",
       "      <td>168</td>\n",
       "      <td>37</td>\n",
       "    </tr>\n",
       "    <tr>\n",
       "      <th>6</th>\n",
       "      <td>paul</td>\n",
       "      <td>male</td>\n",
       "      <td>185</td>\n",
       "      <td>29</td>\n",
       "    </tr>\n",
       "    <tr>\n",
       "      <th>7</th>\n",
       "      <td>jeanne</td>\n",
       "      <td>female</td>\n",
       "      <td>172</td>\n",
       "      <td>56</td>\n",
       "    </tr>\n",
       "    <tr>\n",
       "      <th>8</th>\n",
       "      <td>baptiste</td>\n",
       "      <td>male</td>\n",
       "      <td>178</td>\n",
       "      <td>39</td>\n",
       "    </tr>\n",
       "    <tr>\n",
       "      <th>9</th>\n",
       "      <td>mathilde</td>\n",
       "      <td>female</td>\n",
       "      <td>168</td>\n",
       "      <td>46</td>\n",
       "    </tr>\n",
       "    <tr>\n",
       "      <th>10</th>\n",
       "      <td>bob</td>\n",
       "      <td>male</td>\n",
       "      <td>186</td>\n",
       "      <td>33</td>\n",
       "    </tr>\n",
       "    <tr>\n",
       "      <th>11</th>\n",
       "      <td>elise</td>\n",
       "      <td>female</td>\n",
       "      <td>159</td>\n",
       "      <td>63</td>\n",
       "    </tr>\n",
       "  </tbody>\n",
       "</table>\n",
       "</div>"
      ],
      "text/plain": [
       "        name     sex  size  age\n",
       "0      simon    male   175   33\n",
       "1      clara  female   167   45\n",
       "2      serge    male   181   44\n",
       "3     claire  female   174   31\n",
       "4    patrick    male   172   52\n",
       "5      julie  female   168   37\n",
       "6       paul    male   185   29\n",
       "7     jeanne  female   172   56\n",
       "8   baptiste    male   178   39\n",
       "9   mathilde  female   168   46\n",
       "10       bob    male   186   33\n",
       "11     elise  female   159   63"
      ]
     },
     "execution_count": 2,
     "metadata": {},
     "output_type": "execute_result"
    }
   ],
   "source": [
    "import pandas as pd\n",
    "import numpy as np\n",
    "df=pd.read_csv(\"people.csv\")\n",
    "print(df)\n",
    "df=pd.DataFrame(columns=[\"name\",\"sex\",\"size\",\"age\"],data=df)\n",
    "df"
   ]
  },
  {
   "cell_type": "code",
   "execution_count": 10,
   "id": "e331976f",
   "metadata": {},
   "outputs": [
    {
     "data": {
      "text/html": [
       "<div>\n",
       "<style scoped>\n",
       "    .dataframe tbody tr th:only-of-type {\n",
       "        vertical-align: middle;\n",
       "    }\n",
       "\n",
       "    .dataframe tbody tr th {\n",
       "        vertical-align: top;\n",
       "    }\n",
       "\n",
       "    .dataframe thead th {\n",
       "        text-align: right;\n",
       "    }\n",
       "</style>\n",
       "<table border=\"1\" class=\"dataframe\">\n",
       "  <thead>\n",
       "    <tr style=\"text-align: right;\">\n",
       "      <th></th>\n",
       "      <th>name</th>\n",
       "      <th>sex</th>\n",
       "      <th>size</th>\n",
       "      <th>age</th>\n",
       "    </tr>\n",
       "  </thead>\n",
       "  <tbody>\n",
       "    <tr>\n",
       "      <th>0</th>\n",
       "      <td>simon</td>\n",
       "      <td>male</td>\n",
       "      <td>175</td>\n",
       "      <td>33</td>\n",
       "    </tr>\n",
       "    <tr>\n",
       "      <th>1</th>\n",
       "      <td>clara</td>\n",
       "      <td>female</td>\n",
       "      <td>167</td>\n",
       "      <td>45</td>\n",
       "    </tr>\n",
       "    <tr>\n",
       "      <th>2</th>\n",
       "      <td>serge</td>\n",
       "      <td>male</td>\n",
       "      <td>181</td>\n",
       "      <td>44</td>\n",
       "    </tr>\n",
       "    <tr>\n",
       "      <th>3</th>\n",
       "      <td>claire</td>\n",
       "      <td>female</td>\n",
       "      <td>174</td>\n",
       "      <td>31</td>\n",
       "    </tr>\n",
       "    <tr>\n",
       "      <th>4</th>\n",
       "      <td>patrick</td>\n",
       "      <td>male</td>\n",
       "      <td>172</td>\n",
       "      <td>52</td>\n",
       "    </tr>\n",
       "    <tr>\n",
       "      <th>5</th>\n",
       "      <td>julie</td>\n",
       "      <td>female</td>\n",
       "      <td>168</td>\n",
       "      <td>37</td>\n",
       "    </tr>\n",
       "  </tbody>\n",
       "</table>\n",
       "</div>"
      ],
      "text/plain": [
       "      name     sex  size  age\n",
       "0    simon    male   175   33\n",
       "1    clara  female   167   45\n",
       "2    serge    male   181   44\n",
       "3   claire  female   174   31\n",
       "4  patrick    male   172   52\n",
       "5    julie  female   168   37"
      ]
     },
     "execution_count": 10,
     "metadata": {},
     "output_type": "execute_result"
    }
   ],
   "source": [
    "df2=pd.read_csv(\"people.csv\",nrows=6)\n",
    "df2=pd.DataFrame(columns=[\"name\",\"sex\",\"size\",\"age\"],data=df2)\n",
    "df2"
   ]
  },
  {
   "cell_type": "code",
   "execution_count": 11,
   "id": "8ce0d102",
   "metadata": {},
   "outputs": [
    {
     "data": {
      "text/html": [
       "<div>\n",
       "<style scoped>\n",
       "    .dataframe tbody tr th:only-of-type {\n",
       "        vertical-align: middle;\n",
       "    }\n",
       "\n",
       "    .dataframe tbody tr th {\n",
       "        vertical-align: top;\n",
       "    }\n",
       "\n",
       "    .dataframe thead th {\n",
       "        text-align: right;\n",
       "    }\n",
       "</style>\n",
       "<table border=\"1\" class=\"dataframe\">\n",
       "  <thead>\n",
       "    <tr style=\"text-align: right;\">\n",
       "      <th></th>\n",
       "      <th>name</th>\n",
       "      <th>sex</th>\n",
       "      <th>size</th>\n",
       "      <th>age</th>\n",
       "      <th>oui</th>\n",
       "    </tr>\n",
       "  </thead>\n",
       "  <tbody>\n",
       "    <tr>\n",
       "      <th>0</th>\n",
       "      <td>simon</td>\n",
       "      <td>male</td>\n",
       "      <td>175</td>\n",
       "      <td>33</td>\n",
       "      <td>2</td>\n",
       "    </tr>\n",
       "    <tr>\n",
       "      <th>1</th>\n",
       "      <td>clara</td>\n",
       "      <td>female</td>\n",
       "      <td>167</td>\n",
       "      <td>45</td>\n",
       "      <td>2</td>\n",
       "    </tr>\n",
       "    <tr>\n",
       "      <th>2</th>\n",
       "      <td>serge</td>\n",
       "      <td>male</td>\n",
       "      <td>181</td>\n",
       "      <td>44</td>\n",
       "      <td>2</td>\n",
       "    </tr>\n",
       "    <tr>\n",
       "      <th>3</th>\n",
       "      <td>claire</td>\n",
       "      <td>female</td>\n",
       "      <td>174</td>\n",
       "      <td>31</td>\n",
       "      <td>2</td>\n",
       "    </tr>\n",
       "    <tr>\n",
       "      <th>4</th>\n",
       "      <td>patrick</td>\n",
       "      <td>male</td>\n",
       "      <td>172</td>\n",
       "      <td>52</td>\n",
       "      <td>2</td>\n",
       "    </tr>\n",
       "    <tr>\n",
       "      <th>5</th>\n",
       "      <td>julie</td>\n",
       "      <td>female</td>\n",
       "      <td>168</td>\n",
       "      <td>37</td>\n",
       "      <td>2</td>\n",
       "    </tr>\n",
       "    <tr>\n",
       "      <th>6</th>\n",
       "      <td>paul</td>\n",
       "      <td>male</td>\n",
       "      <td>185</td>\n",
       "      <td>29</td>\n",
       "      <td>2</td>\n",
       "    </tr>\n",
       "    <tr>\n",
       "      <th>7</th>\n",
       "      <td>jeanne</td>\n",
       "      <td>female</td>\n",
       "      <td>172</td>\n",
       "      <td>56</td>\n",
       "      <td>2</td>\n",
       "    </tr>\n",
       "    <tr>\n",
       "      <th>8</th>\n",
       "      <td>baptiste</td>\n",
       "      <td>male</td>\n",
       "      <td>178</td>\n",
       "      <td>39</td>\n",
       "      <td>2</td>\n",
       "    </tr>\n",
       "    <tr>\n",
       "      <th>9</th>\n",
       "      <td>mathilde</td>\n",
       "      <td>female</td>\n",
       "      <td>168</td>\n",
       "      <td>46</td>\n",
       "      <td>2</td>\n",
       "    </tr>\n",
       "    <tr>\n",
       "      <th>10</th>\n",
       "      <td>bob</td>\n",
       "      <td>male</td>\n",
       "      <td>186</td>\n",
       "      <td>33</td>\n",
       "      <td>2</td>\n",
       "    </tr>\n",
       "    <tr>\n",
       "      <th>11</th>\n",
       "      <td>elise</td>\n",
       "      <td>female</td>\n",
       "      <td>159</td>\n",
       "      <td>63</td>\n",
       "      <td>2</td>\n",
       "    </tr>\n",
       "  </tbody>\n",
       "</table>\n",
       "</div>"
      ],
      "text/plain": [
       "        name     sex  size  age  oui\n",
       "0      simon    male   175   33    2\n",
       "1      clara  female   167   45    2\n",
       "2      serge    male   181   44    2\n",
       "3     claire  female   174   31    2\n",
       "4    patrick    male   172   52    2\n",
       "5      julie  female   168   37    2\n",
       "6       paul    male   185   29    2\n",
       "7     jeanne  female   172   56    2\n",
       "8   baptiste    male   178   39    2\n",
       "9   mathilde  female   168   46    2\n",
       "10       bob    male   186   33    2\n",
       "11     elise  female   159   63    2"
      ]
     },
     "execution_count": 11,
     "metadata": {},
     "output_type": "execute_result"
    }
   ],
   "source": [
    "df3=df.assign(oui=np.repeat(2, df.shape[0]))\n",
    "df3"
   ]
  },
  {
   "cell_type": "code",
   "execution_count": 52,
   "id": "b63a4f75",
   "metadata": {},
   "outputs": [
    {
     "data": {
      "text/html": [
       "<div>\n",
       "<style scoped>\n",
       "    .dataframe tbody tr th:only-of-type {\n",
       "        vertical-align: middle;\n",
       "    }\n",
       "\n",
       "    .dataframe tbody tr th {\n",
       "        vertical-align: top;\n",
       "    }\n",
       "\n",
       "    .dataframe thead th {\n",
       "        text-align: right;\n",
       "    }\n",
       "</style>\n",
       "<table border=\"1\" class=\"dataframe\">\n",
       "  <thead>\n",
       "    <tr style=\"text-align: right;\">\n",
       "      <th></th>\n",
       "      <th>name</th>\n",
       "      <th>sex</th>\n",
       "      <th>size</th>\n",
       "      <th>age</th>\n",
       "      <th>oui</th>\n",
       "    </tr>\n",
       "  </thead>\n",
       "  <tbody>\n",
       "    <tr>\n",
       "      <th>3</th>\n",
       "      <td>claire</td>\n",
       "      <td>female</td>\n",
       "      <td>174</td>\n",
       "      <td>31</td>\n",
       "      <td>2</td>\n",
       "    </tr>\n",
       "    <tr>\n",
       "      <th>5</th>\n",
       "      <td>julie</td>\n",
       "      <td>female</td>\n",
       "      <td>168</td>\n",
       "      <td>37</td>\n",
       "      <td>2</td>\n",
       "    </tr>\n",
       "  </tbody>\n",
       "</table>\n",
       "</div>"
      ],
      "text/plain": [
       "     name     sex  size  age  oui\n",
       "3  claire  female   174   31    2\n",
       "5   julie  female   168   37    2"
      ]
     },
     "execution_count": 52,
     "metadata": {},
     "output_type": "execute_result"
    }
   ],
   "source": [
    "df4=df3[ (df3[\"age\"]<39) & (df[\"sex\"]==\"female\")]\n",
    "df4"
   ]
  },
  {
   "cell_type": "code",
   "execution_count": 64,
   "id": "9af10b77",
   "metadata": {},
   "outputs": [
    {
     "data": {
      "text/plain": [
       "array([  1,   2,   3,   4,   5,   6,   7,   8,  12,  45,  64, 548])"
      ]
     },
     "execution_count": 64,
     "metadata": {},
     "output_type": "execute_result"
    }
   ],
   "source": [
    "a=[1,2,1,2,1,5,3,6,4,5,8,45,2,5,7,6,3,12,548,4,4,5,64,]\n",
    "np.unique(a)"
   ]
  },
  {
   "cell_type": "code",
   "execution_count": 79,
   "id": "5422911d",
   "metadata": {},
   "outputs": [],
   "source": [
    "df=pd.read_csv(\"transferrin_report.csv\")"
   ]
  },
  {
   "cell_type": "code",
   "execution_count": 80,
   "id": "6d27d3fe",
   "metadata": {},
   "outputs": [
    {
     "data": {
      "text/html": [
       "<div>\n",
       "<style scoped>\n",
       "    .dataframe tbody tr th:only-of-type {\n",
       "        vertical-align: middle;\n",
       "    }\n",
       "\n",
       "    .dataframe tbody tr th {\n",
       "        vertical-align: top;\n",
       "    }\n",
       "\n",
       "    .dataframe thead th {\n",
       "        text-align: right;\n",
       "    }\n",
       "</style>\n",
       "<table border=\"1\" class=\"dataframe\">\n",
       "  <thead>\n",
       "    <tr style=\"text-align: right;\">\n",
       "      <th></th>\n",
       "      <th>PDB ID</th>\n",
       "      <th>Source</th>\n",
       "      <th>Deposit Date</th>\n",
       "      <th>Length</th>\n",
       "      <th>MW</th>\n",
       "    </tr>\n",
       "  </thead>\n",
       "  <tbody>\n",
       "    <tr>\n",
       "      <th>0</th>\n",
       "      <td>1A8E</td>\n",
       "      <td>Homo sapiens</td>\n",
       "      <td>1998-03-24</td>\n",
       "      <td>329</td>\n",
       "      <td>36408.4</td>\n",
       "    </tr>\n",
       "    <tr>\n",
       "      <th>1</th>\n",
       "      <td>1A8F</td>\n",
       "      <td>Homo sapiens</td>\n",
       "      <td>1998-03-25</td>\n",
       "      <td>329</td>\n",
       "      <td>36408.4</td>\n",
       "    </tr>\n",
       "    <tr>\n",
       "      <th>2</th>\n",
       "      <td>1AIV</td>\n",
       "      <td>Gallus gallus</td>\n",
       "      <td>1997-04-28</td>\n",
       "      <td>686</td>\n",
       "      <td>75929.0</td>\n",
       "    </tr>\n",
       "    <tr>\n",
       "      <th>3</th>\n",
       "      <td>1AOV</td>\n",
       "      <td>Anas platyrhynchos</td>\n",
       "      <td>1996-12-11</td>\n",
       "      <td>686</td>\n",
       "      <td>75731.8</td>\n",
       "    </tr>\n",
       "    <tr>\n",
       "      <th>4</th>\n",
       "      <td>1B3E</td>\n",
       "      <td>Homo sapiens</td>\n",
       "      <td>1998-12-09</td>\n",
       "      <td>330</td>\n",
       "      <td>36505.5</td>\n",
       "    </tr>\n",
       "  </tbody>\n",
       "</table>\n",
       "</div>"
      ],
      "text/plain": [
       "  PDB ID              Source Deposit Date  Length       MW\n",
       "0   1A8E        Homo sapiens   1998-03-24     329  36408.4\n",
       "1   1A8F        Homo sapiens   1998-03-25     329  36408.4\n",
       "2   1AIV       Gallus gallus   1997-04-28     686  75929.0\n",
       "3   1AOV  Anas platyrhynchos   1996-12-11     686  75731.8\n",
       "4   1B3E        Homo sapiens   1998-12-09     330  36505.5"
      ]
     },
     "execution_count": 80,
     "metadata": {},
     "output_type": "execute_result"
    }
   ],
   "source": [
    "df.head()"
   ]
  },
  {
   "cell_type": "code",
   "execution_count": 81,
   "id": "775833fb",
   "metadata": {},
   "outputs": [
    {
     "data": {
      "text/html": [
       "<div>\n",
       "<style scoped>\n",
       "    .dataframe tbody tr th:only-of-type {\n",
       "        vertical-align: middle;\n",
       "    }\n",
       "\n",
       "    .dataframe tbody tr th {\n",
       "        vertical-align: top;\n",
       "    }\n",
       "\n",
       "    .dataframe thead th {\n",
       "        text-align: right;\n",
       "    }\n",
       "</style>\n",
       "<table border=\"1\" class=\"dataframe\">\n",
       "  <thead>\n",
       "    <tr style=\"text-align: right;\">\n",
       "      <th></th>\n",
       "      <th>Length</th>\n",
       "      <th>MW</th>\n",
       "    </tr>\n",
       "  </thead>\n",
       "  <tbody>\n",
       "    <tr>\n",
       "      <th>count</th>\n",
       "      <td>41.000000</td>\n",
       "      <td>41.000000</td>\n",
       "    </tr>\n",
       "    <tr>\n",
       "      <th>mean</th>\n",
       "      <td>477.341463</td>\n",
       "      <td>52816.090244</td>\n",
       "    </tr>\n",
       "    <tr>\n",
       "      <th>std</th>\n",
       "      <td>175.710217</td>\n",
       "      <td>19486.594012</td>\n",
       "    </tr>\n",
       "    <tr>\n",
       "      <th>min</th>\n",
       "      <td>304.000000</td>\n",
       "      <td>33548.100000</td>\n",
       "    </tr>\n",
       "    <tr>\n",
       "      <th>25%</th>\n",
       "      <td>331.000000</td>\n",
       "      <td>36542.300000</td>\n",
       "    </tr>\n",
       "    <tr>\n",
       "      <th>50%</th>\n",
       "      <td>337.000000</td>\n",
       "      <td>37229.300000</td>\n",
       "    </tr>\n",
       "    <tr>\n",
       "      <th>75%</th>\n",
       "      <td>679.000000</td>\n",
       "      <td>75298.500000</td>\n",
       "    </tr>\n",
       "    <tr>\n",
       "      <th>max</th>\n",
       "      <td>696.000000</td>\n",
       "      <td>77067.900000</td>\n",
       "    </tr>\n",
       "  </tbody>\n",
       "</table>\n",
       "</div>"
      ],
      "text/plain": [
       "           Length            MW\n",
       "count   41.000000     41.000000\n",
       "mean   477.341463  52816.090244\n",
       "std    175.710217  19486.594012\n",
       "min    304.000000  33548.100000\n",
       "25%    331.000000  36542.300000\n",
       "50%    337.000000  37229.300000\n",
       "75%    679.000000  75298.500000\n",
       "max    696.000000  77067.900000"
      ]
     },
     "execution_count": 81,
     "metadata": {},
     "output_type": "execute_result"
    }
   ],
   "source": [
    "df.describe()"
   ]
  },
  {
   "cell_type": "code",
   "execution_count": 82,
   "id": "041ff563",
   "metadata": {},
   "outputs": [
    {
     "data": {
      "text/plain": [
       "Source\n",
       "Homo sapiens             26\n",
       "Gallus gallus            10\n",
       "Anas platyrhynchos        2\n",
       "Oryctolagus cuniculus     2\n",
       "Sus scrofa                1\n",
       "Name: count, dtype: int64"
      ]
     },
     "execution_count": 82,
     "metadata": {},
     "output_type": "execute_result"
    }
   ],
   "source": [
    "df[\"Source\"].value_counts()"
   ]
  },
  {
   "cell_type": "code",
   "execution_count": 22,
   "id": "4ea60b49",
   "metadata": {},
   "outputs": [],
   "source": [
    "df=pd.read_csv(\"temp.csv\")"
   ]
  },
  {
   "cell_type": "code",
   "execution_count": 23,
   "id": "d65d2bf8",
   "metadata": {},
   "outputs": [
    {
     "data": {
      "text/html": [
       "<div>\n",
       "<style scoped>\n",
       "    .dataframe tbody tr th:only-of-type {\n",
       "        vertical-align: middle;\n",
       "    }\n",
       "\n",
       "    .dataframe tbody tr th {\n",
       "        vertical-align: top;\n",
       "    }\n",
       "\n",
       "    .dataframe thead th {\n",
       "        text-align: right;\n",
       "    }\n",
       "</style>\n",
       "<table border=\"1\" class=\"dataframe\">\n",
       "  <thead>\n",
       "    <tr style=\"text-align: right;\">\n",
       "      <th></th>\n",
       "      <th>Lun  12 11 14 12</th>\n",
       "    </tr>\n",
       "  </thead>\n",
       "  <tbody>\n",
       "    <tr>\n",
       "      <th>0</th>\n",
       "      <td>Mar  12 10 14 11</td>\n",
       "    </tr>\n",
       "    <tr>\n",
       "      <th>1</th>\n",
       "      <td>Mer  11 11 14 13</td>\n",
       "    </tr>\n",
       "    <tr>\n",
       "      <th>2</th>\n",
       "      <td>Jeu  18 23 23 17</td>\n",
       "    </tr>\n",
       "    <tr>\n",
       "      <th>3</th>\n",
       "      <td>Ven  17 22 21 17</td>\n",
       "    </tr>\n",
       "    <tr>\n",
       "      <th>4</th>\n",
       "      <td>Sam  16 20 22 16</td>\n",
       "    </tr>\n",
       "    <tr>\n",
       "      <th>5</th>\n",
       "      <td>Dim  18 25 22 17</td>\n",
       "    </tr>\n",
       "  </tbody>\n",
       "</table>\n",
       "</div>"
      ],
      "text/plain": [
       "   Lun  12 11 14 12\n",
       "0  Mar  12 10 14 11\n",
       "1  Mer  11 11 14 13\n",
       "2  Jeu  18 23 23 17\n",
       "3  Ven  17 22 21 17\n",
       "4  Sam  16 20 22 16\n",
       "5  Dim  18 25 22 17"
      ]
     },
     "execution_count": 23,
     "metadata": {},
     "output_type": "execute_result"
    }
   ],
   "source": [
    "df"
   ]
  },
  {
   "cell_type": "code",
   "execution_count": 26,
   "id": "44d5d270",
   "metadata": {},
   "outputs": [],
   "source": [
    "df2=pd.DataFrame(columns=[\"Jour\",\"t1\",\"t2\",\"t3\"],data=pd.read_csv(\"temp.csv\"))"
   ]
  },
  {
   "cell_type": "code",
   "execution_count": 27,
   "id": "fdc31ae0",
   "metadata": {},
   "outputs": [
    {
     "data": {
      "text/html": [
       "<div>\n",
       "<style scoped>\n",
       "    .dataframe tbody tr th:only-of-type {\n",
       "        vertical-align: middle;\n",
       "    }\n",
       "\n",
       "    .dataframe tbody tr th {\n",
       "        vertical-align: top;\n",
       "    }\n",
       "\n",
       "    .dataframe thead th {\n",
       "        text-align: right;\n",
       "    }\n",
       "</style>\n",
       "<table border=\"1\" class=\"dataframe\">\n",
       "  <thead>\n",
       "    <tr style=\"text-align: right;\">\n",
       "      <th></th>\n",
       "      <th>Jour</th>\n",
       "      <th>t1</th>\n",
       "      <th>t2</th>\n",
       "      <th>t3</th>\n",
       "    </tr>\n",
       "  </thead>\n",
       "  <tbody>\n",
       "    <tr>\n",
       "      <th>0</th>\n",
       "      <td>NaN</td>\n",
       "      <td>NaN</td>\n",
       "      <td>NaN</td>\n",
       "      <td>NaN</td>\n",
       "    </tr>\n",
       "    <tr>\n",
       "      <th>1</th>\n",
       "      <td>NaN</td>\n",
       "      <td>NaN</td>\n",
       "      <td>NaN</td>\n",
       "      <td>NaN</td>\n",
       "    </tr>\n",
       "    <tr>\n",
       "      <th>2</th>\n",
       "      <td>NaN</td>\n",
       "      <td>NaN</td>\n",
       "      <td>NaN</td>\n",
       "      <td>NaN</td>\n",
       "    </tr>\n",
       "    <tr>\n",
       "      <th>3</th>\n",
       "      <td>NaN</td>\n",
       "      <td>NaN</td>\n",
       "      <td>NaN</td>\n",
       "      <td>NaN</td>\n",
       "    </tr>\n",
       "    <tr>\n",
       "      <th>4</th>\n",
       "      <td>NaN</td>\n",
       "      <td>NaN</td>\n",
       "      <td>NaN</td>\n",
       "      <td>NaN</td>\n",
       "    </tr>\n",
       "    <tr>\n",
       "      <th>5</th>\n",
       "      <td>NaN</td>\n",
       "      <td>NaN</td>\n",
       "      <td>NaN</td>\n",
       "      <td>NaN</td>\n",
       "    </tr>\n",
       "  </tbody>\n",
       "</table>\n",
       "</div>"
      ],
      "text/plain": [
       "   Jour  t1  t2  t3\n",
       "0   NaN NaN NaN NaN\n",
       "1   NaN NaN NaN NaN\n",
       "2   NaN NaN NaN NaN\n",
       "3   NaN NaN NaN NaN\n",
       "4   NaN NaN NaN NaN\n",
       "5   NaN NaN NaN NaN"
      ]
     },
     "execution_count": 27,
     "metadata": {},
     "output_type": "execute_result"
    }
   ],
   "source": [
    "df2"
   ]
  },
  {
   "cell_type": "code",
   "execution_count": null,
   "id": "8eb3aee7",
   "metadata": {},
   "outputs": [],
   "source": []
  }
 ],
 "metadata": {
  "kernelspec": {
   "display_name": "Python 3 (ipykernel)",
   "language": "python",
   "name": "python3"
  },
  "language_info": {
   "codemirror_mode": {
    "name": "ipython",
    "version": 3
   },
   "file_extension": ".py",
   "mimetype": "text/x-python",
   "name": "python",
   "nbconvert_exporter": "python",
   "pygments_lexer": "ipython3",
   "version": "3.10.8"
  }
 },
 "nbformat": 4,
 "nbformat_minor": 5
}
